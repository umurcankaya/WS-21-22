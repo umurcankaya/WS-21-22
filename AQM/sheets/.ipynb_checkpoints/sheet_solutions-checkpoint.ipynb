{
 "cells": [
  {
   "cell_type": "code",
   "execution_count": 13,
   "metadata": {},
   "outputs": [],
   "source": [
    "from sympy import *\n",
    "init_printing(use_unicode=True)"
   ]
  },
  {
   "cell_type": "markdown",
   "metadata": {},
   "source": [
    "# Sheet 1"
   ]
  },
  {
   "cell_type": "markdown",
   "metadata": {},
   "source": [
    "## 1.2.e"
   ]
  },
  {
   "cell_type": "code",
   "execution_count": 14,
   "metadata": {},
   "outputs": [],
   "source": [
    "hbar, omega0, delta = symbols('hbar \\Omega_0 \\Delta')"
   ]
  },
  {
   "cell_type": "code",
   "execution_count": 18,
   "metadata": {},
   "outputs": [
    {
     "data": {
      "text/latex": [
       "$\\displaystyle \\left[\\begin{matrix}\\frac{\\Delta \\hbar}{2} & \\frac{\\Omega_{0} \\hbar}{2}\\\\\\frac{\\Omega_{0} \\hbar}{2} & - \\frac{\\Delta \\hbar}{2}\\end{matrix}\\right]$"
      ],
      "text/plain": [
       "⎡\\Delta⋅h̅   \\Omega₀⋅h̅ ⎤\n",
       "⎢────────   ───────── ⎥\n",
       "⎢   2           2     ⎥\n",
       "⎢                     ⎥\n",
       "⎢\\Omega₀⋅h̅  -\\Delta⋅h̅ ⎥\n",
       "⎢─────────  ──────────⎥\n",
       "⎣    2          2     ⎦"
      ]
     },
     "execution_count": 18,
     "metadata": {},
     "output_type": "execute_result"
    }
   ],
   "source": [
    "H = Matrix([[delta, omega0],[omega0, -delta]]) * hbar * 1/2\n",
    "H"
   ]
  },
  {
   "cell_type": "code",
   "execution_count": 19,
   "metadata": {},
   "outputs": [
    {
     "data": {
      "text/latex": [
       "$\\displaystyle \\left[ \\left( - \\hbar \\sqrt{\\frac{\\Delta^{2}}{4} + \\frac{\\Omega_{0}^{2}}{4}}, \\  1, \\  \\left[ \\left[\\begin{matrix}- \\frac{\\Omega_{0}}{\\Delta + \\sqrt{\\Delta^{2} + \\Omega_{0}^{2}}}\\\\1\\end{matrix}\\right]\\right]\\right), \\  \\left( \\hbar \\sqrt{\\frac{\\Delta^{2}}{4} + \\frac{\\Omega_{0}^{2}}{4}}, \\  1, \\  \\left[ \\left[\\begin{matrix}- \\frac{\\Omega_{0}}{\\Delta - \\sqrt{\\Delta^{2} + \\Omega_{0}^{2}}}\\\\1\\end{matrix}\\right]\\right]\\right)\\right]$"
      ],
      "text/plain": [
       "⎡⎛        ____________________     ⎡⎡           -\\Omega₀             ⎤⎤⎞  ⎛   \n",
       "⎢⎜       ╱       2          2      ⎢⎢────────────────────────────────⎥⎥⎟  ⎜   \n",
       "⎢⎜      ╱  \\Delta    \\Omega₀       ⎢⎢            ____________________⎥⎥⎟  ⎜   \n",
       "⎢⎜-h̅⋅  ╱   ─────── + ──────── , 1, ⎢⎢           ╱       2          2 ⎥⎥⎟, ⎜h̅\n",
       "⎢⎜   ╲╱       4         4          ⎢⎢\\Delta + ╲╱  \\Delta  + \\Omega₀  ⎥⎥⎟  ⎜  ╲\n",
       "⎢⎜                                 ⎢⎢                                ⎥⎥⎟  ⎜   \n",
       "⎣⎝                                 ⎣⎣               1                ⎦⎦⎠  ⎝   \n",
       "\n",
       "    ____________________     ⎡⎡           -\\Omega₀             ⎤⎤⎞⎤\n",
       "   ╱       2          2      ⎢⎢────────────────────────────────⎥⎥⎟⎥\n",
       "  ╱  \\Delta    \\Omega₀       ⎢⎢            ____________________⎥⎥⎟⎥\n",
       "⋅  ╱   ─────── + ──────── , 1, ⎢⎢           ╱       2          2 ⎥⎥⎟⎥\n",
       "╱       4         4          ⎢⎢\\Delta - ╲╱  \\Delta  + \\Omega₀  ⎥⎥⎟⎥\n",
       "                             ⎢⎢                                ⎥⎥⎟⎥\n",
       "                             ⎣⎣               1                ⎦⎦⎠⎦"
      ]
     },
     "execution_count": 19,
     "metadata": {},
     "output_type": "execute_result"
    }
   ],
   "source": [
    "H.eigenvects()"
   ]
  },
  {
   "cell_type": "code",
   "execution_count": null,
   "metadata": {},
   "outputs": [],
   "source": []
  }
 ],
 "metadata": {
  "kernelspec": {
   "display_name": "Python 3",
   "language": "python",
   "name": "python3"
  },
  "language_info": {
   "codemirror_mode": {
    "name": "ipython",
    "version": 3
   },
   "file_extension": ".py",
   "mimetype": "text/x-python",
   "name": "python",
   "nbconvert_exporter": "python",
   "pygments_lexer": "ipython3",
   "version": "3.8.6"
  }
 },
 "nbformat": 4,
 "nbformat_minor": 4
}

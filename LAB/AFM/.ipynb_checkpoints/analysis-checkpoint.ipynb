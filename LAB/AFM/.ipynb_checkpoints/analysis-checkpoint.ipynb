{
 "cells": [
  {
   "cell_type": "code",
   "execution_count": 115,
   "id": "672f6f1d-cabf-461f-b262-37d93c958b0c",
   "metadata": {},
   "outputs": [],
   "source": [
    "import numpy as np\n",
    "import matplotlib.pyplot as plt\n",
    "from scipy.optimize import curve_fit\n",
    "from os import listdir\n",
    "from uncertainties import ufloat, unumpy"
   ]
  },
  {
   "cell_type": "markdown",
   "id": "b66d4d18-b3fb-48c6-ace1-d4ae890cc6de",
   "metadata": {},
   "source": [
    "___\n",
    "### Resonance frequency of the tip"
   ]
  },
  {
   "cell_type": "code",
   "execution_count": 20,
   "id": "b5c8efd2-edd7-4648-bcf6-362c7c3a4f1f",
   "metadata": {},
   "outputs": [],
   "source": [
    "res_data = np.loadtxt('data/Resonance.cur', delimiter=' ', skiprows=41, usecols=(0,1,2,3))"
   ]
  },
  {
   "cell_type": "code",
   "execution_count": 31,
   "id": "26939f46-ddec-4a45-baea-1efea089b4c9",
   "metadata": {},
   "outputs": [],
   "source": [
    "def lorentzian(x, x0, γ):\n",
    "    return γ**2 / ((x-x0)**2 + γ**2)"
   ]
  },
  {
   "cell_type": "code",
   "execution_count": 39,
   "id": "f99f1b77-c99d-4463-b163-fd6c60ceef0a",
   "metadata": {},
   "outputs": [],
   "source": [
    "popt, pcov = curve_fit(lorentzian, res_data[:,0] ,res_data[:,1], p0=(51e3,0.5e3))"
   ]
  },
  {
   "cell_type": "code",
   "execution_count": 41,
   "id": "093c8ff7-1915-47ac-836f-d541fe156094",
   "metadata": {},
   "outputs": [],
   "source": [
    "x_eval = np.linspace(res_data[:,0].min(), res_data[:,0].max(), 1000)"
   ]
  },
  {
   "cell_type": "code",
   "execution_count": 59,
   "id": "9cb71f9b-de5f-4a70-8d4f-33ce0888f250",
   "metadata": {},
   "outputs": [
    {
     "data": {
      "image/png": "[encoded data removed]",
      "text/plain": [
       "<Figure size 600x400 with 1 Axes>"
      ]
     },
     "metadata": {
      "needs_background": "light"
     },
     "output_type": "display_data"
    }
   ],
   "source": [
    "fig, ax = plt.subplots(dpi=100)\n",
    "\n",
    "ax.scatter(res_data[:,0],res_data[:,1], s=0.25, c='k', label='data')\n",
    "ax.plot(x_eval, lorentzian(x_eval, *popt), lw=1.25, label='Lorentzian fit')\n",
    "\n",
    "ax.legend(scatterpoints=3)\n",
    "ax.set(xlabel='frequency [Hz]', ylabel='amplitude [V]')\n",
    "\n",
    "fig.savefig('figures/resonance_freq.pdf', dpi=100)"
   ]
  },
  {
   "cell_type": "code",
   "execution_count": 58,
   "id": "e8f25916-cb33-4029-864c-4f8b0db4c5ae",
   "metadata": {},
   "outputs": [
    {
     "data": {
      "text/plain": [
       "array([50963.02749211,   285.5138706 ])"
      ]
     },
     "execution_count": 58,
     "metadata": {},
     "output_type": "execute_result"
    }
   ],
   "source": [
    "popt "
   ]
  },
  {
   "cell_type": "code",
   "execution_count": 56,
   "id": "421354c0-3eb7-438f-a78b-b36ebacdf994",
   "metadata": {},
   "outputs": [
    {
     "data": {
      "text/plain": [
       "array([1.08994943, 1.09431069])"
      ]
     },
     "execution_count": 56,
     "metadata": {},
     "output_type": "execute_result"
    }
   ],
   "source": [
    "np.sqrt(np.diag(pcov))"
   ]
  },
  {
   "cell_type": "markdown",
   "id": "56f05344-8c56-40cc-a92b-954917e5393e",
   "metadata": {},
   "source": [
    "___\n",
    "### Contact potential"
   ]
  },
  {
   "cell_type": "code",
   "execution_count": 153,
   "id": "eb0338ea-d22b-42f5-b525-f298e7a48daa",
   "metadata": {},
   "outputs": [],
   "source": [
    "path = 'data/hopg_iv_curves/'\n",
    "fnames = [list(filter(lambda x: 'Avg' in x, listdir(path + 'curve %s'%i)))[0] for i in range(1,11)]"
   ]
  },
  {
   "cell_type": "code",
   "execution_count": 154,
   "id": "bd6b49a5-1c35-4921-8021-774181664d17",
   "metadata": {},
   "outputs": [],
   "source": [
    "data = [np.loadtxt(path+'curve %s/'%(i+1)+fname, delimiter=' ', skiprows=160, usecols=(0,1,2,3)) for i, fname in enumerate(fnames)]"
   ]
  },
  {
   "cell_type": "code",
   "execution_count": 155,
   "id": "6196c39f-c66e-4315-b2d5-0ac39a9c193e",
   "metadata": {},
   "outputs": [],
   "source": [
    "f_disp = np.zeros(len(data))\n",
    "f_ster = np.zeros(len(data))\n",
    "b_disp = np.zeros(len(data))\n",
    "b_ster = np.zeros(len(data))\n",
    "\n",
    "for i, d in enumerate(data):\n",
    "    popt, pcov = np.polyfit(d[:,0], d[:,1], 2, cov=True)\n",
    "    ste = np.sqrt(np.diag(pcov))\n",
    "    ucoefs = unumpy.uarray(popt, ste)\n",
    "    \n",
    "    disp = - ucoefs[1]/(2*ucoefs[0])\n",
    "    f_disp[i] = disp.nominal_value\n",
    "    f_ster[i] = disp.std_dev\n",
    "    \n",
    "    popt, pcov = np.polyfit(d[:,2], d[:,3], 2, cov=True)\n",
    "    ste = np.sqrt(np.diag(pcov))\n",
    "    ucoefs = unumpy.uarray(popt, ste)\n",
    "    \n",
    "    disp = - ucoefs[1]/(2*ucoefs[0])\n",
    "    b_disp[i] = disp.nominal_value\n",
    "    b_ster[i] = disp.std_dev"
   ]
  },
  {
   "cell_type": "code",
   "execution_count": 156,
   "id": "8c3fcad2-0ded-4129-9ac8-a8387b7b85f2",
   "metadata": {},
   "outputs": [
    {
     "data": {
      "text/plain": [
       "-0.36589551407243254+/-0.004071353615607251"
      ]
     },
     "execution_count": 156,
     "metadata": {},
     "output_type": "execute_result"
    }
   ],
   "source": [
    "unumpy.uarray(f_disp, f_ster).mean()"
   ]
  },
  {
   "cell_type": "code",
   "execution_count": 157,
   "id": "6c45684e-33d6-428c-b5af-7979e67dc390",
   "metadata": {},
   "outputs": [
    {
     "data": {
      "text/plain": [
       "-0.13089542096392232+/-0.0031159867481507404"
      ]
     },
     "execution_count": 157,
     "metadata": {},
     "output_type": "execute_result"
    }
   ],
   "source": [
    "unumpy.uarray(b_disp, b_ster).mean()"
   ]
  },
  {
   "cell_type": "code",
   "execution_count": 158,
   "id": "b51f81e3-0f95-4901-a368-76907f1fcbff",
   "metadata": {},
   "outputs": [],
   "source": [
    "path = 'data/gold_iv_curves/'\n",
    "fnames = [list(filter(lambda x: 'Avg' in x, listdir(path + 'curve %s'%i)))[0] for i in range(1,11)]"
   ]
  },
  {
   "cell_type": "code",
   "execution_count": 159,
   "id": "aff8bd1b-9ce9-4b72-9f4d-55e6ce2fb6b2",
   "metadata": {},
   "outputs": [],
   "source": [
    "data = [np.loadtxt(path+'curve %s/'%(i+1)+fname, delimiter=' ', skiprows=160, usecols=(0,1,2,3)) for i, fname in enumerate(fnames)]"
   ]
  },
  {
   "cell_type": "code",
   "execution_count": 160,
   "id": "36e00bf0-85c2-4993-8d98-83e4a5c58193",
   "metadata": {},
   "outputs": [],
   "source": [
    "f_disp = np.zeros(len(data))\n",
    "f_ster = np.zeros(len(data))\n",
    "b_disp = np.zeros(len(data))\n",
    "b_ster = np.zeros(len(data))\n",
    "\n",
    "for i, d in enumerate(data):\n",
    "    popt, pcov = np.polyfit(d[:,0], d[:,1], 2, cov=True)\n",
    "    ste = np.sqrt(np.diag(pcov))\n",
    "    ucoefs = unumpy.uarray(popt, ste)\n",
    "    \n",
    "    disp = - ucoefs[1]/(2*ucoefs[0])\n",
    "    f_disp[i] = disp.nominal_value\n",
    "    f_ster[i] = disp.std_dev\n",
    "    \n",
    "    popt, pcov = np.polyfit(d[:,2], d[:,3], 2, cov=True)\n",
    "    ste = np.sqrt(np.diag(pcov))\n",
    "    ucoefs = unumpy.uarray(popt, ste)\n",
    "    \n",
    "    disp = - ucoefs[1]/(2*ucoefs[0])\n",
    "    b_disp[i] = disp.nominal_value\n",
    "    b_ster[i] = disp.std_dev"
   ]
  },
  {
   "cell_type": "code",
   "execution_count": 161,
   "id": "bd8fb74b-717b-4112-ab5e-0f97023e2e95",
   "metadata": {},
   "outputs": [
    {
     "data": {
      "text/plain": [
       "-0.19159087545738862+/-0.005232433496863806"
      ]
     },
     "execution_count": 161,
     "metadata": {},
     "output_type": "execute_result"
    }
   ],
   "source": [
    "unumpy.uarray(f_disp, f_ster).mean()"
   ]
  },
  {
   "cell_type": "code",
   "execution_count": 162,
   "id": "34fdb06a-08f8-41f6-bfde-a0814b39335e",
   "metadata": {},
   "outputs": [
    {
     "data": {
      "text/plain": [
       "0.038178611505302176+/-0.0047636125439401945"
      ]
     },
     "execution_count": 162,
     "metadata": {},
     "output_type": "execute_result"
    }
   ],
   "source": [
    "unumpy.uarray(b_disp, b_ster).mean()"
   ]
  },
  {
   "cell_type": "code",
   "execution_count": null,
   "id": "a8916f03-16bf-4558-aec8-07d487f0c583",
   "metadata": {},
   "outputs": [],
   "source": []
  }
 ],
 "metadata": {
  "kernelspec": {
   "display_name": "Python 3",
   "language": "python",
   "name": "python3"
  },
  "language_info": {
   "codemirror_mode": {
    "name": "ipython",
    "version": 3
   },
   "file_extension": ".py",
   "mimetype": "text/x-python",
   "name": "python",
   "nbconvert_exporter": "python",
   "pygments_lexer": "ipython3",
   "version": "3.8.5"
  }
 },
 "nbformat": 4,
 "nbformat_minor": 5
}

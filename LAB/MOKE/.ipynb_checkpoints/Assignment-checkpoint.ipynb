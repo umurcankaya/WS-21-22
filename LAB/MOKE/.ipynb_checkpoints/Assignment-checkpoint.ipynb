{
 "cells": [
  {
   "cell_type": "markdown",
   "metadata": {
    "id": "KjW-JTsCuDiD"
   },
   "source": [
    "# Assignment 2\n",
    "\n",
    "## Q1 - Numerical Simulation\n",
    "\n",
    "\n",
    "---\n",
    "\n",
    "It is recommended that you read the Python 2 Manual posted to eClass. The first step is to complete the skeleton code below. The section \"Getting Started with Python\" in the manual goes through each code section below. You do not need to change the \"Constants\" or \"Calculation loop\" sections (though you can change the constants if you like just to see what would happen). Note that while we specify the units in the comments, we don't actually put any units on the numbers themselves. The code to plot the height as a function of time has been left in so that you know whether your simulation worked or not."
   ]
  },
  {
   "cell_type": "code",
   "execution_count": null,
   "metadata": {
    "id": "6yRlMOnOqi37"
   },
   "outputs": [],
   "source": [
    "import numpy as np\n",
    "import scipy.io as sio\n",
    "import matplotlib.pyplot as plt\n",
    "\n",
    "# Constants\n",
    "g = 9.81 # Acceleration due to gravity (m/s^2)\n",
    "alpha = 0.5 # Drag parameter; feel free to play around with this number (/s)\n",
    "\n",
    "# Simulation parameters\n",
    "h =  # Step size in seconds\n",
    "simLength =  # Simulation length in seconds\n",
    "t =  # Array of times; used only for plotting\n",
    "n =  # Number of entries in t\n",
    "\n",
    "# Data arrays\n",
    "r =  # List of heights throughout the sim (in  metres)\n",
    "s =  # List of velocities throughout the sim (in metres/second)\n",
    "\n",
    "# Initial conditions\n",
    "  # Initial height (m)\n",
    "  # Initial velocity (m/s)\n",
    "\n",
    "# First-order equations\n",
    "def rd(s): # Calculate derivative of r (r')\n",
    "    return  s\n",
    "\n",
    "def sd(s): # Calculate derivative of s (s')\n",
    "    return  -g - alpha * s\n",
    "\n",
    "# Calculation loop\n",
    "for i in range(0, n-1): \n",
    "    k1r = rd(s[i])\n",
    "    k1s = sd(s[i])\n",
    "\n",
    "    k2r = rd(s[i] + h * 0.5 * k1s)\n",
    "    k2s = sd(s[i] + h * 0.5 * k1s)\n",
    "\n",
    "    k3r = rd(s[i] + h * 0.5 * k2s)\n",
    "    k3s = sd(s[i] + h * 0.5 * k2s)\n",
    "\n",
    "    k4r = rd(s[i] + h * k3s)\n",
    "    k4s = sd(s[i] + h * k3s)\n",
    "\n",
    "    # Update next value of variables \n",
    "    r[i+1] = r[i] + h * (k1r + 2 * k2r + 2 * k3r + k4r) / 6.0 \n",
    "    s[i+1] = s[i] + h * (k1s + 2 * k2s + 2 * k3s + k4s) / 6.0\n",
    "\n",
    "    # Uncomment the code on the next line for Q2\n",
    "    # if r[i+1] <= 0: s[i+1] = -s[i+1]\n",
    "\n",
    "# Plotting the result\n",
    "plt.plot(t, r)\n",
    "plt.title('Projectile Motion:')\n",
    "plt.xlabel('time (s)')\n",
    "plt.ylabel('height (m)')\n",
    "plt.grid(True)\n",
    "plt.show()"
   ]
  },
  {
   "cell_type": "markdown",
   "metadata": {
    "id": "WTBOTkxvwC9i"
   },
   "source": [
    "## Q2 - Adding a Twist\n",
    "\n",
    "\n",
    "---\n",
    "\n",
    "One of the great things about a numerical simulation is that you can easily adjust it to account for new physics. Uncomment the line `if r[i+1] <= 0: s[i+1] = -s[i+1]` near the end of the `for` loop in the above code. If you're feeling particularly ambitious, make a guess as to what will happen to the projectile. Keep in mind `r` is height and `s` is velocity. Then, whether you've made a guess or not, run the code to see what happens.\n",
    "\n",
    "In words, describe what you see and what you think is happening to the projectile. Describe what each part of that line of code is doing."
   ]
  },
  {
   "cell_type": "markdown",
   "metadata": {
    "id": "87sbIejnxd0k"
   },
   "source": [
    "# Your text here"
   ]
  },
  {
   "cell_type": "markdown",
   "metadata": {
    "id": "thN4utAvxnNm"
   },
   "source": [
    "## Q3 - Plotting Height and Velocity\n",
    "\n",
    "\n",
    "---\n",
    "\n",
    "Plot both height vs. time and velocity vs. time on the same graph. A skeleton is provided below and you should only have to fill out the underlined portions. Make sure that the height and velocity curves and y-labels are in different colours."
   ]
  },
  {
   "cell_type": "code",
   "execution_count": null,
   "metadata": {
    "id": "4NW-xZ55yFMP"
   },
   "outputs": [],
   "source": [
    "# your code here\n",
    "fig, ax1 = plt.subplots()\n",
    "ax1.set_xlabel(______)\n",
    "ax1.set_ylabel(______)\n",
    "ax1.plot(______)\n",
    "\n",
    "ax2 = ax1.twinx()\n",
    "ax2.set_ylabel(_____)\n",
    "ax2.plot(_____)\n",
    "plt.show()"
   ]
  },
  {
   "cell_type": "markdown",
   "metadata": {
    "id": "AXdMqqjOxuSk"
   },
   "source": [
    "## Q4 - Simulation vs. Idealized Solution\n",
    "\n",
    "\n",
    "---\n",
    "\n",
    "Another interesting thing we can do is to plot our simulation against the idealized version. Create a function that takes time, initial height, and initial velocity as arguments, and returns the value of Eq. 2.10 in the manual. Look at the \"First-order equations\" section in the simulation code for some hints on how a function works. There's also good information in the PHYS 144 Python 2 manual (section 10.7) posted to eClass.\n",
    "\n",
    "Now, on the same graph, plot both your simulated height vs. time and the idealized height vs. time. The times have already been calculated for you in the simulation. You should use the same initial height and initial velocity you currently have set in the simulation."
   ]
  },
  {
   "cell_type": "code",
   "execution_count": null,
   "metadata": {
    "id": "0__uo-Fq0HC-"
   },
   "outputs": [],
   "source": [
    "# your code here"
   ]
  },
  {
   "cell_type": "markdown",
   "metadata": {
    "id": "5Gn9gKsH0LMl"
   },
   "source": [
    "## Q5 - Advanced Simulations and Plotting\n",
    "\n",
    "\n",
    "---\n",
    "\n",
    "### Background\n",
    "\n",
    "While you won't have to write your own code, the MAT file \"Q5 Data\" on eClass contains the results of an electromagnetism simulation. Rather than an initial-value problem (IVP) like you solved in Q1, this is a boundary-value problem (BVP). We specify certain boundary conditions like \"the derivative of magnetic field strength with respect to time is 0 along the line y = 0\". We specify the differential equations that describe the physical system, set up some 2D arrays (instead of 1D like `s` and `r` above) and let the algorithm crunch out what the values should be in our grid. Technically, this simulation used the Finite Element Method (FEM) where we create a mesh of triangles and calculate the value in each triangle, but the idea is the same. One problem with using a grid of rectangles is it's hard to properly represent circles. The mesh used to solve the system is shown in the lab manual. However, the data in the MAT file has been sampled on a regular grid for convenience.\n",
    "\n",
    "The physical system we were modelling is a sheet of conductive paper that has two long, straight electrodes painted on either side with silver paint, and an annulus between them (also in silver paint). Using a power supply, one straight electrode is held at 4.5 V, and the other at 0 V. The silver ring in the middle is left alone. We can then use a multimeter to measure the voltage anywhere on the surface of the paper. We then compared it to a simulation and found that it matched very closely!\n",
    "\n",
    "In the lab manual, there is a contour plot overlaid with a stream plot of this simulation. The grey dashed lines show where the silver paint would have been on the actual sheet. The bands of colour indicate the general voltage in that region, and the solid, dark grey lines between each colour band are called equipotential lines. The voltage is exactly the same anywhere on a given line. The black stream arrows on top allow you to visualize the direction of the electric field. It's quite interesting that no field lines penetrate the silver ring in the middle! There are very good physical reasons for that as you'll learn in your EM courses.\n",
    "\n",
    "### Assignment\n",
    "\n",
    "Import the data from \"Q5 Data.mat\" on eClass. We have already imported `scipy.io as sio` so that we can use SciPy's `loadmat` function. Unfortunately, the CSVs we've been using up to now are not well-suited for 3D matrices of data. If you print your data after importing it, you may notice that there's a header followed by some data. However, the MAT file is being stored as a dictionary rather than a list, so we can't just index into it using `myData[0]` or `myData[1]`; we need to use the correct key instead as in `myData['correctKey']`. Dictionaries will tell you what keys are stored in them if you use `myData.keys()`. Look at the keys available to you, and use the correct key to store just the data array to a new variable. This is now a regular matrix and you can index into it as you usually would. `myMatrix[0, 0]` should get you a list in the form `[x, y, z]` where *x* and *y* are just the *x* and *y* coordinates on the sheet of paper, and *z* is the voltage at that point.\n",
    "\n",
    "Plot a 3D surface plot of the data and a contour plot of the data. You can use either `plt.contour` or `plt.contourf` for the contour plot, but contourf is more fun to look at. Because the data array pulled from the MAT file is an M * N * 3 matrix, if we slice it correctly, we can get the three, 2D matrices that we need as both types of plots are expecting three arguments—X, Y, and Z—each of which is a 2D matrix. We don't require axis labels this time for either plot, though you may want to try adding them.\n",
    "\n",
    "Surface Plot: https://matplotlib.org/stable/gallery/mplot3d/surface3d_2.html\n",
    "\n",
    "Contour Plot: https://matplotlib.org/stable/api/_as_gen/matplotlib.pyplot.contour.html\n",
    "\n",
    "\n"
   ]
  },
  {
   "cell_type": "code",
   "execution_count": null,
   "metadata": {
    "id": "KKywVVoZMbi2"
   },
   "outputs": [],
   "source": [
    "# your code here"
   ]
  },
  {
   "cell_type": "markdown",
   "metadata": {
    "id": "D7b-xVhCSeVw"
   },
   "source": [
    "## Q6 - References and Acknowledgements\n",
    "\n",
    "\n",
    "---\n",
    "\n",
    "List any references used and acknowledge anyone you worked with or who helped you with the assignment. If you need to acknowledge someone, make sure to acknowledge how each person contributed. If you have no references or acknowledgements, just put \"None\"."
   ]
  },
  {
   "cell_type": "markdown",
   "metadata": {
    "id": "_bUEzzb9TEiX"
   },
   "source": [
    "# Your text here"
   ]
  }
 ],
 "metadata": {
  "colab": {
   "name": "PHYS 146 Python 2 Skeleton Notebook",
   "provenance": []
  },
  "kernelspec": {
   "display_name": "Python 3 (ipykernel)",
   "language": "python",
   "name": "python3"
  },
  "language_info": {
   "codemirror_mode": {
    "name": "ipython",
    "version": 3
   },
   "file_extension": ".py",
   "mimetype": "text/x-python",
   "name": "python",
   "nbconvert_exporter": "python",
   "pygments_lexer": "ipython3",
   "version": "3.9.7"
  }
 },
 "nbformat": 4,
 "nbformat_minor": 1
}

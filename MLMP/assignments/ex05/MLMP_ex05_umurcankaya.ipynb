{
 "cells": [
  {
   "cell_type": "markdown",
   "id": "e95ddf32-04b2-40c1-9f19-db0f4509e9ce",
   "metadata": {},
   "source": [
    "# Machine learning for molecular physics\n",
    "#### Sheet 5 (exercise 4, part 2)\n",
    "#### Umur Can Kaya"
   ]
  },
  {
   "cell_type": "code",
   "execution_count": 9,
   "id": "56f18bfd-73ce-48e5-8990-574da06cfcdc",
   "metadata": {},
   "outputs": [],
   "source": [
    "import numpy as np\n",
    "import matplotlib.pyplot as plt\n",
    "\n",
    "from sklearn.metrics import mean_squared_error, r2_score\n",
    "from sklearn.model_selection import ShuffleSplit, GridSearchCV\n",
    "from sklearn.neural_network import MLPRegressor\n",
    "\n",
    "from ase import Atoms, units\n",
    "from ase.units import Angstrom\n",
    "from ase.calculators.lj import LennardJones\n",
    "from ase.visualize import view"
   ]
  },
  {
   "cell_type": "markdown",
   "id": "ddc5661f-4dec-486f-a66b-26a90c9f7618",
   "metadata": {},
   "source": [
    "## 2 Network architecture and weight optimization\n",
    "### 2.1 Optimizer"
   ]
  },
  {
   "cell_type": "code",
   "execution_count": 16,
   "id": "69ab8b77-26e7-4b3c-b6d1-0dbe59c05fd6",
   "metadata": {},
   "outputs": [],
   "source": [
    "dataset = np.load('3D_cluster_T_800.npz')\n",
    "X, y = dataset['X'], dataset['y'][:,0]"
   ]
  },
  {
   "cell_type": "code",
   "execution_count": 17,
   "id": "371a7696-813d-436a-b53b-a102a2c43b3e",
   "metadata": {},
   "outputs": [],
   "source": [
    "rs = ShuffleSplit(n_splits=1, test_size=.20, random_state=0)\n",
    "\n",
    "for train_idx, test_idx in rs.split(X):\n",
    "    X_train, X_test = X[train_idx], X[test_idx]\n",
    "    y_train, y_test = y[train_idx], y[test_idx]"
   ]
  },
  {
   "cell_type": "code",
   "execution_count": 18,
   "id": "97894968-5eb5-4b2b-982f-f1bfffb1d852",
   "metadata": {},
   "outputs": [],
   "source": [
    "solvers = ['adam', 'lbfgs']\n",
    "\n",
    "for solver in solvers:\n",
    "\n",
    "    nn = MLPRegressor(hidden_layer_sizes = (10,10)\n",
    "                     ,activation = 'logistic'\n",
    "                     ,solver = solver\n",
    "                     ,max_iter = 10000\n",
    "                     ,warm_start = False\n",
    "                     ,random_state = 0)\n",
    "\n",
    "    nn.fit(X_train, y_train)"
   ]
  },
  {
   "cell_type": "code",
   "execution_count": null,
   "id": "854894ba-7b92-4811-9baa-b5c58b5fee16",
   "metadata": {},
   "outputs": [],
   "source": []
  }
 ],
 "metadata": {
  "kernelspec": {
   "display_name": "mltutorial",
   "language": "python",
   "name": "mltutorial"
  },
  "language_info": {
   "codemirror_mode": {
    "name": "ipython",
    "version": 3
   },
   "file_extension": ".py",
   "mimetype": "text/x-python",
   "name": "python",
   "nbconvert_exporter": "python",
   "pygments_lexer": "ipython3",
   "version": "3.8.12"
  }
 },
 "nbformat": 4,
 "nbformat_minor": 5
}

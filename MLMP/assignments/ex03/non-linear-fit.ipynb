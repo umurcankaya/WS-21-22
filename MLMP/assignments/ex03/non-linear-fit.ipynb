{
 "cells": [
  {
   "cell_type": "code",
   "execution_count": 1,
   "id": "81dc6d38",
   "metadata": {},
   "outputs": [],
   "source": [
    "import numpy as np\n",
    "import matplotlib.pyplot as plt\n",
    "from matplotlib.colors import ListedColormap\n",
    "from sklearn.metrics import mean_squared_error, mean_absolute_error, r2_score\n",
    "from sklearn.model_selection import ShuffleSplit, GridSearchCV\n",
    "from sklearn.svm import SVR\n",
    "from sklearn.kernel_ridge import KernelRidge\n",
    "from sklearn.neural_network import MLPRegressor, MLPClassifier"
   ]
  },
  {
   "cell_type": "markdown",
   "id": "66c28e0f",
   "metadata": {},
   "source": [
    "# Typical initialization of sklearn models "
   ]
  },
  {
   "cell_type": "code",
   "execution_count": null,
   "id": "43ffbc63",
   "metadata": {},
   "outputs": [],
   "source": [
    "#Example for support vector regression\n",
    "svr_lin = SVR(kernel=\"linear\", C=100)\n",
    "\n",
    "#Example for 'GridSearchCV'\n",
    "svr = GridSearchCV(SVR(kernel=\"linear\"),param_grid={'C': [1, 10]})\n",
    "\n",
    "#Example for neural network regression\n",
    "nn = MLPRegressor(hidden_layer_sizes=(20,20),activation='logistic')"
   ]
  },
  {
   "cell_type": "markdown",
   "id": "993a251d",
   "metadata": {},
   "source": [
    "# Example figure formatting for the Classification task"
   ]
  },
  {
   "cell_type": "markdown",
   "id": "088658bd",
   "metadata": {},
   "source": [
    "## Example for using color maps"
   ]
  },
  {
   "cell_type": "code",
   "execution_count": 9,
   "id": "5c2d38dc",
   "metadata": {},
   "outputs": [
    {
     "data": {
      "image/png": "[encoded data removed]",
      "text/plain": [
       "<Figure size 504x504 with 1 Axes>"
      ]
     },
     "metadata": {
      "needs_background": "light"
     },
     "output_type": "display_data"
    }
   ],
   "source": [
    "X = np.array(([-1,-1],[-1,1],[1,-1],[1,1]))\n",
    "y = np.array((1,-1,-1,1))\n",
    "\n",
    "cm_points = ListedColormap([\"green\", \"blue\"])\n",
    "plt.figure(figsize=(7,7))\n",
    "\n",
    "plt.scatter(X[:,0],X[:,1],marker='X',s=80,c=y,cmap=cm_points)\n",
    "plt.xlabel('x1', fontsize=15)\n",
    "plt.ylabel('x2', fontsize=15)\n",
    "plt.xticks(fontsize=12)\n",
    "plt.yticks(fontsize=12)\n",
    "\n",
    "plt.axis([-1.1,1.1,-1.1,1.1])\n",
    "plt.show()"
   ]
  },
  {
   "cell_type": "markdown",
   "id": "ba284a5e",
   "metadata": {},
   "source": [
    "## Example using meshgrid"
   ]
  },
  {
   "cell_type": "code",
   "execution_count": 25,
   "id": "2ddb55c8",
   "metadata": {},
   "outputs": [
    {
     "data": {
      "image/png": "[encoded data removed]",
      "text/plain": [
       "<Figure size 360x360 with 1 Axes>"
      ]
     },
     "metadata": {
      "needs_background": "light"
     },
     "output_type": "display_data"
    }
   ],
   "source": [
    "h = 0.1\n",
    "xx1, xx2 = np.meshgrid(np.arange(-1.1, 1.1, h), np.arange(-1.1, 1.1, h))\n",
    "Y = np.sqrt(xx1**2 + xx2**2)\n",
    "\n",
    "cm = plt.cm.Blues\n",
    "fig,ax = plt.subplots(figsize=(5,5))\n",
    "\n",
    "cs = ax.contourf(xx1, xx2, Y, cmap=cm, alpha=1.0)\n",
    "ax.set_xlabel('x1')\n",
    "ax.set_ylabel('x2')\n",
    "\n",
    "plt.show()"
   ]
  },
  {
   "cell_type": "markdown",
   "id": "d83147c2",
   "metadata": {},
   "source": [
    "# Advice on using markdown formatting for your answers"
   ]
  },
  {
   "cell_type": "markdown",
   "id": "39137ad8",
   "metadata": {},
   "source": [
    "Example showing how latex equations can be rendered in markdown cells: \n",
    "\n",
    "inline expressions $\\beta = 10$, or multiline expressions \n",
    "$$ \n",
    "\\begin{align*}\n",
    "\\dot{x} & = \\sigma(y-x) \\\\\n",
    "\\dot{y} & = \\rho x - y - xz \\\\\n",
    "\\dot{z} & = -\\beta z + xy\n",
    "\\end{align*}\n",
    "$$\n",
    "can be rendered with a latex interpreter.\n",
    "More examples can be found [here](https://towardsdatascience.com/write-markdown-latex-in-the-jupyter-notebook-10985edb91fd). In addition, [here](https://www.markdownguide.org/basic-syntax/) is a useful guide to the markdown syntax.\n",
    "\n"
   ]
  },
  {
   "cell_type": "markdown",
   "id": "82739c2c",
   "metadata": {},
   "source": [
    "**Please use these tools to answer the assignments questions within the notebooks using headings to refer to the task. Unclear answers and/or notebooks might result in a reduced grade.** \n",
    "\n",
    "For instance the answer to Task 1 should be formatted as:"
   ]
  },
  {
   "cell_type": "markdown",
   "id": "45664e26",
   "metadata": {},
   "source": [
    "# Task 1\n",
    "\n",
    "**Your answers**"
   ]
  },
  {
   "cell_type": "code",
   "execution_count": null,
   "id": "fbc2ee05",
   "metadata": {},
   "outputs": [],
   "source": []
  },
  {
   "cell_type": "code",
   "execution_count": null,
   "id": "4540b200",
   "metadata": {},
   "outputs": [],
   "source": []
  }
 ],
 "metadata": {
  "kernelspec": {
   "display_name": "mltutorial",
   "language": "python",
   "name": "mltutorial"
  },
  "language_info": {
   "codemirror_mode": {
    "name": "ipython",
    "version": 3
   },
   "file_extension": ".py",
   "mimetype": "text/x-python",
   "name": "python",
   "nbconvert_exporter": "python",
   "pygments_lexer": "ipython3",
   "version": "3.8.11"
  }
 },
 "nbformat": 4,
 "nbformat_minor": 5
}

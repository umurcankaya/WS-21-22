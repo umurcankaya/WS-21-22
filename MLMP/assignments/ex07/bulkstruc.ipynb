{
 "cells": [
  {
   "cell_type": "markdown",
   "source": [
    "# Setting up bulk structures\n",
    "## Using lattices"
   ],
   "metadata": {}
  },
  {
   "cell_type": "code",
   "execution_count": null,
   "source": [
    "from ase.lattice import cubic, hexagonal\n",
    "\n",
    "sc = cubic.SimpleCubic\n",
    "\n",
    "# atomic distances\n",
    "d = 1.1\n",
    "\n",
    "# simple cubic\n",
    "a = d\n",
    "print(f'Lattice constant a(sc) = {a:5.3f}')\n",
    "atoms_sc = sc(symbol='H', latticeconstant=a, size=(10,10,10))\n",
    "print(len(atoms_sc))"
   ],
   "outputs": [],
   "metadata": {}
  },
  {
   "cell_type": "markdown",
   "source": [
    "## Equation of state fitting"
   ],
   "metadata": {}
  },
  {
   "cell_type": "code",
   "execution_count": null,
   "source": [
    "from ase.eos import EquationOfState, calculate_eos\n",
    "\n",
    "# skeleton code, corresponding calculator needs to be set to make this work\n",
    "# atoms is the Atoms object\n",
    "eos = calculate_eos(atoms)\n",
    "# v is the equilibrium volume and e the corresponding energy\n",
    "v, e, B = eos.fit()\n",
    "\n",
    "# !! THIS DOES NOT CHANGE THE CELL VECTORS, YOU NEED TO SET THEM YOURSELF AFTER THE FIT !!"
   ],
   "outputs": [],
   "metadata": {}
  },
  {
   "cell_type": "markdown",
   "source": [
    "# Running MD"
   ],
   "metadata": {}
  },
  {
   "cell_type": "code",
   "execution_count": null,
   "source": [
    "from ase.md.velocitydistribution import MaxwellBoltzmannDistribution\n",
    "from ase.md.andersen import Andersen\n",
    "from ase import units\n",
    "\n",
    "# initial velocities\n",
    "MaxwellBoltzmannDistribution(atoms, temperature_K=600)\n",
    "\n",
    "# run constant temperature (NVT) MD\n",
    "# Room temperature simulation (300 Kelvin, Andersen collision frequency: 0.1)\n",
    "runmd = Andersen(atoms, 0.001, 300, 0.1)\n",
    "\n",
    "# save MD frames to a trajectory file\n",
    "traj = Trajectory('atoms.traj', 'w', atoms)\n",
    "runmd.attach(traj.write, interval=10)\n",
    "\n",
    "#Run the dynamics\n",
    "print('\\nRunning MD for ...\\n')\n",
    "for i in range(10):\n",
    "    # run 20 MD steps\n",
    "    runmd.run(20)\n",
    "    # function to print out the energy (to be defined)\n",
    "    printenergy(atoms)"
   ],
   "outputs": [],
   "metadata": {}
  },
  {
   "cell_type": "markdown",
   "source": [
    "## Reading and writing trajectory files"
   ],
   "metadata": {}
  },
  {
   "cell_type": "code",
   "execution_count": null,
   "source": [
    "from ase.io.trajectory import Trajectory\n",
    "from ase.io import write\n",
    "\n",
    "# read trajectory from file\n",
    "traj_new = Trajectory('atoms.traj', 'r')\n",
    "\n",
    "# take frame 5 from this trajectory\n",
    "atoms_new = traj_new[5]\n",
    "\n",
    "# write whole trajectory to an xyz file\n",
    "write('atoms.xyz', traj_new, columns=['symbols','positions'])"
   ],
   "outputs": [],
   "metadata": {}
  },
  {
   "cell_type": "markdown",
   "source": [
    "## Neighbour lists"
   ],
   "metadata": {}
  },
  {
   "cell_type": "code",
   "execution_count": null,
   "source": [
    "atoms = atoms_sc"
   ],
   "outputs": [],
   "metadata": {}
  },
  {
   "cell_type": "code",
   "execution_count": null,
   "source": [
    "from ase.neighborlist import neighbor_list\n",
    "\n",
    "# get number of atoms\n",
    "natoms = len(atoms)\n",
    "\n",
    "# set cutoffs\n",
    "cutoff = 1.5\n",
    "\n",
    "# compute the neighbour list\n",
    "i, j, r_ij = neighbor_list('ijd', atoms, cutoff, self_interaction=False)\n",
    "\n",
    "\n"
   ],
   "outputs": [],
   "metadata": {}
  }
 ],
 "metadata": {
  "kernelspec": {
   "name": "python3",
   "display_name": "Python 3.9.2 64-bit"
  },
  "language_info": {
   "codemirror_mode": {
    "name": "ipython",
    "version": 3
   },
   "file_extension": ".py",
   "mimetype": "text/x-python",
   "name": "python",
   "nbconvert_exporter": "python",
   "pygments_lexer": "ipython3",
   "version": "3.9.2"
  },
  "interpreter": {
   "hash": "4cd7ab41f5fca4b9b44701077e38c5ffd31fe66a6cab21e0214b68d958d0e462"
  }
 },
 "nbformat": 4,
 "nbformat_minor": 5
}
{
 "cells": [
  {
   "cell_type": "code",
   "execution_count": 1,
   "source": [
    "from ase import Atoms\n",
    "from ase.calculators.lj import LennardJones\n",
    "from ase.optimize import BFGS\n",
    "from math import sqrt, exp\n",
    "import numpy as np\n",
    "from ase.visualize import view\n",
    "from ase.constraints import StrainFilter, UnitCellFilter\n",
    "from ase.spacegroup.symmetrize import FixSymmetry, check_symmetry\n",
    "from ase.eos import EquationOfState, calculate_eos\n",
    "from ase.io.trajectory import Trajectory\n",
    "from ase.io import write\n",
    "\n",
    "from ase.md.velocitydistribution import MaxwellBoltzmannDistribution\n",
    "from ase.md.verlet import VelocityVerlet\n",
    "from ase.md.andersen import Andersen\n",
    "from ase.md.langevin import Langevin\n",
    "from ase import units\n",
    "\n",
    "import matplotlib.pyplot as plt\n",
    "from matplotlib.colors import ListedColormap\n",
    "\n",
    "from ase.lattice import cubic, hexagonal"
   ],
   "outputs": [],
   "metadata": {}
  },
  {
   "cell_type": "markdown",
   "source": [
    "# Setting up initial bulks structures with ASE\n",
    "\n",
    "## Task 2.1+2.2: setup structures and optimize volume with EOS"
   ],
   "metadata": {}
  },
  {
   "cell_type": "code",
   "execution_count": 9,
   "source": [
    "bcc = cubic.BodyCenteredCubic\n",
    "fcc = cubic.FaceCenteredCubic\n",
    "sc = cubic.SimpleCubic\n",
    "# diamond = cubic.Diamond\n",
    "hcp = hexagonal.HexagonalClosedPacked\n",
    "\n",
    "# atomic distances\n",
    "d = 1.1\n",
    "\n",
    "# bcc lattice\n",
    "a = 2.0/sqrt(3.0)*d\n",
    "print(f'Lattice constant a(bcc) = {a:5.3f}')\n",
    "atoms_bcc = bcc(symbol='H', latticeconstant=a, size=(8,8,8))\n",
    "print(len(atoms_bcc))\n",
    "print(atoms_bcc.get_cell())\n",
    "print(atoms_bcc.get_pbc())\n",
    "print(atoms_bcc.get_masses())\n",
    "#view(atoms)\n",
    "\n",
    "# fcc lattice\n",
    "a = 2.0/sqrt(2.0)*d\n",
    "print(f'Lattice constant a(fcc) = {a:5.3f}')\n",
    "atoms_fcc = fcc(symbol='H', latticeconstant=a, size=(7,7,7))\n",
    "print(len(atoms_fcc))\n",
    "\n",
    "# # simple cubic\n",
    "# a = d\n",
    "# print(f'Lattice constant a(sc) = {a:5.3f}')\n",
    "# atoms_sc = sc(symbol='Ar', latticeconstant=a, size=(10,10,10))\n",
    "# print(len(atoms_sc))\n",
    "\n",
    "# # diamond\n",
    "# a = 4.0/sqrt(3.0)*d\n",
    "# print(f'Lattice constant a(diamond) = {a:5.3f}')\n",
    "# atoms_diamond = diamond(symbol='Ar', latticeconstant=a, size=(5,5,5))\n",
    "# print(len(atoms_diamond))\n",
    "\n",
    "# hcp lattice\n",
    "a = d\n",
    "print(f'Lattice constant a(hcp) = {a:5.3f}')\n",
    "atoms_hcp = hcp(symbol='H', latticeconstant={'a': a, 'c/a': sqrt(8.0/3.0)}, size=(9,9,7))\n",
    "print(len(atoms_hcp))\n",
    "#print(atoms_hcp.get_cell())\n",
    "\n",
    "# liquid (no optimization)\n",
    "a = d\n",
    "print(f'Lattice constant a(liquid) = {a:5.3f}')\n",
    "atoms_liquid = sc(symbol='H', latticeconstant=a, size=(10,10,10))\n",
    "print(len(atoms_liquid))\n",
    "\n",
    "# optimize the lattice by using the EOS\n",
    "# setup calculator\n",
    "ljcalc = LennardJones()\n",
    "\n",
    "atoms_bcc.calc = ljcalc\n",
    "atoms_fcc.calc = ljcalc\n",
    "# atoms_sc.calc = ljcalc\n",
    "# atoms_diamond.calc = ljcalc\n",
    "atoms_hcp.calc = ljcalc\n",
    "atoms_liquid.calc = ljcalc\n",
    "\n",
    "# print(f'\\nVolume = {atoms_bcc.get_volume():.3f}, Energy = {atoms_bcc.get_potential_energy():.3f}')\n",
    "\n",
    "# # bcc\n",
    "# eos = calculate_eos(atoms_bcc)\n",
    "# v, e, B = eos.fit()\n",
    "# a0 = v**(1./3.)\n",
    "# print('EOS fitting bcc:')\n",
    "# print(f'Volume = {v:.3f}, Energy = {e:.3f}, a0 = {a0:.3f}')\n",
    "\n",
    "# # set new cell vectors and recompute energy\n",
    "# atoms_bcc.set_cell([a0,a0,a0], scale_atoms=True)\n",
    "# #print(atoms_bcc.get_cell())\n",
    "# print(f'\\nVolume = {atoms_bcc.get_volume():.3f}, Energy = {atoms_bcc.get_potential_energy():.3f}')\n",
    "\n",
    "#mylat = ['bcc','fcc','sc','diamond']\n",
    "mylat = ['bcc','fcc','hcp']\n",
    "k = 0\n",
    "#for atoms in atoms_bcc, atoms_fcc, atoms_sc, atoms_diamond: \n",
    "for atoms in atoms_bcc, atoms_fcc, atoms_hcp: \n",
    "    eos = calculate_eos(atoms)\n",
    "    v, e, B = eos.fit()\n",
    "    if k < 2:  # cubic \n",
    "        a0 = v**(1./3.)\n",
    "    else:  # hexagonal and specific to 9x9x7\n",
    "        v = v/(9*9*7)\n",
    "        a0 = (v/sqrt(2))**(1./3.)\n",
    "        v = v*(9*9*7)\n",
    "    print(f'\\nEOS fitting {mylat[k]}:')\n",
    "    print(f'Volume = {v:.3f}, Energy = {e:.3f}, a0 = {a0:.3f}')\n",
    "    # set new cell vectors and recompute energy\n",
    "    if k < 2:\n",
    "        atoms.set_cell([a0,a0,a0], scale_atoms=True)\n",
    "    else:  # for hexagonal specific to 9x9x7\n",
    "        xs = 9\n",
    "        ys = 9\n",
    "        zs = 7\n",
    "\n",
    "        atoms.set_cell([[a0*xs,0.0,0.0],\n",
    "                        [-0.5*a0*ys,sqrt(3.0)/2.0*a0*ys,0.0],\n",
    "                        [0.0,0.0,sqrt(8.0/3.0)*a0*zs]], scale_atoms=True)\n",
    "    print(f'Volume = {atoms.get_volume():.3f}, Energy = {atoms.get_potential_energy():.3f}')\n",
    "    natoms = len(atoms)\n",
    "    print(f'Volume/atom = {atoms.get_volume()/natoms:.3f}, Energy/atom = {atoms.get_potential_energy()/natoms:.3f}')\n",
    "    k += 1\n",
    "\n",
    "\n",
    "# save original positions\n",
    "bcc_orig_pos = atoms_bcc.get_positions()\n",
    "fcc_orig_pos = atoms_fcc.get_positions()\n",
    "# sc_orig_pos = atoms_sc.get_positions()\n",
    "# diamond_orig_pos = atoms_diamond.get_positions()\n",
    "hcp_orig_pos = atoms_hcp.get_positions()\n",
    "liquid_orig_pos = atoms_liquid.get_positions()"
   ],
   "outputs": [
    {
     "output_type": "stream",
     "name": "stdout",
     "text": [
      "Lattice constant a(bcc) = 1.270\n",
      "1024\n",
      "Cell([10.161364737737415, 10.161364737737415, 10.161364737737415])\n",
      "[ True  True  True]\n",
      "[1.008 1.008 1.008 ... 1.008 1.008 1.008]\n",
      "Lattice constant a(fcc) = 1.556\n",
      "1372\n",
      "Lattice constant a(hcp) = 1.100\n",
      "1134\n",
      "Lattice constant a(liquid) = 1.100\n",
      "1000\n",
      "\n",
      "EOS fitting bcc:\n",
      "Volume = 971.024, Energy = -7764.015, a0 = 9.902\n",
      "Volume = 971.024, Energy = -7763.102\n",
      "Volume/atom = 0.948, Energy/atom = -7.581\n",
      "\n",
      "EOS fitting fcc:\n",
      "Volume = 1268.394, Energy = -10890.797, a0 = 10.825\n",
      "Volume = 1268.394, Energy = -10890.804\n",
      "Volume/atom = 0.924, Energy/atom = -7.938\n",
      "\n",
      "EOS fitting hcp:\n",
      "Volume = 1048.205, Energy = -9005.224, a0 = 1.093\n",
      "Volume = 1048.205, Energy = -9005.201\n",
      "Volume/atom = 0.924, Energy/atom = -7.941\n"
     ]
    }
   ],
   "metadata": {}
  },
  {
   "cell_type": "markdown",
   "source": [
    "## Task 3: Run MD simulation"
   ],
   "metadata": {}
  },
  {
   "cell_type": "markdown",
   "source": [
    "### Function to print energy"
   ],
   "metadata": {}
  },
  {
   "cell_type": "code",
   "execution_count": 10,
   "source": [
    "def printenergy(a):\n",
    "    \"\"\"Function to print the potential, kinetic and total energy\"\"\"\n",
    "    epot = a.get_potential_energy() / len(a)\n",
    "    ekin = a.get_kinetic_energy() / len(a)\n",
    "    print(f'Energy per atom: Epot = {epot: .3f} eV  Ekin = {ekin: .3f} eV'\n",
    "          f' (T = {ekin / (1.5 * units.kB): 4.1f} K) Etot = {epot+ekin: .3f} eV')"
   ],
   "outputs": [],
   "metadata": {}
  },
  {
   "cell_type": "markdown",
   "source": [
    "### fcc"
   ],
   "metadata": {}
  },
  {
   "cell_type": "code",
   "execution_count": 11,
   "source": [
    "# set original postions\n",
    "atoms_fcc.set_positions(fcc_orig_pos)\n",
    "\n",
    "# running MD simulation\n",
    "# initial velocities\n",
    "MaxwellBoltzmannDistribution(atoms_fcc, temperature_K=600)\n",
    "\n",
    "# run constant temperature (NVT) MD\n",
    "# Room temperature simulation (600 Kelvin, Andersen probability: 0.002)\n",
    "runmd = Andersen(atoms_fcc, 0.001, 600, 0.02)\n",
    "traj = Trajectory('fcc_600k.traj', 'w', atoms_fcc)\n",
    "runmd.attach(traj.write, interval=100)\n",
    "\n",
    "#Now run the dynamics\n",
    "print('\\nRunning MD for bulk fcc\\n')\n",
    "printenergy(atoms_fcc)\n",
    "for i in range(20):\n",
    "    runmd.run(500)\n",
    "    printenergy(atoms_fcc)\n",
    "    "
   ],
   "outputs": [
    {
     "output_type": "stream",
     "name": "stdout",
     "text": [
      "\n",
      "Running MD for bulk fcc\n",
      "\n",
      "Energy per atom: Epot = -7.938 eV  Ekin =  0.079 eV (T =  612.6 K) Etot = -7.859 eV\n",
      "Energy per atom: Epot = -7.861 eV  Ekin =  0.075 eV (T =  580.4 K) Etot = -7.786 eV\n",
      "Energy per atom: Epot = -7.857 eV  Ekin =  0.075 eV (T =  582.2 K) Etot = -7.782 eV\n",
      "Energy per atom: Epot = -7.860 eV  Ekin =  0.076 eV (T =  587.4 K) Etot = -7.784 eV\n",
      "Energy per atom: Epot = -7.862 eV  Ekin =  0.077 eV (T =  598.2 K) Etot = -7.785 eV\n",
      "Energy per atom: Epot = -7.859 eV  Ekin =  0.079 eV (T =  610.8 K) Etot = -7.780 eV\n",
      "Energy per atom: Epot = -7.861 eV  Ekin =  0.077 eV (T =  595.7 K) Etot = -7.784 eV\n",
      "Energy per atom: Epot = -7.857 eV  Ekin =  0.082 eV (T =  635.4 K) Etot = -7.775 eV\n",
      "Energy per atom: Epot = -7.862 eV  Ekin =  0.076 eV (T =  585.7 K) Etot = -7.786 eV\n",
      "Energy per atom: Epot = -7.859 eV  Ekin =  0.080 eV (T =  617.3 K) Etot = -7.779 eV\n",
      "Energy per atom: Epot = -7.865 eV  Ekin =  0.076 eV (T =  587.3 K) Etot = -7.789 eV\n",
      "Energy per atom: Epot = -7.861 eV  Ekin =  0.080 eV (T =  616.9 K) Etot = -7.782 eV\n",
      "Energy per atom: Epot = -7.862 eV  Ekin =  0.076 eV (T =  591.8 K) Etot = -7.786 eV\n",
      "Energy per atom: Epot = -7.861 eV  Ekin =  0.076 eV (T =  588.3 K) Etot = -7.785 eV\n",
      "Energy per atom: Epot = -7.861 eV  Ekin =  0.078 eV (T =  602.3 K) Etot = -7.783 eV\n",
      "Energy per atom: Epot = -7.860 eV  Ekin =  0.077 eV (T =  598.9 K) Etot = -7.782 eV\n",
      "Energy per atom: Epot = -7.861 eV  Ekin =  0.077 eV (T =  599.2 K) Etot = -7.784 eV\n",
      "Energy per atom: Epot = -7.859 eV  Ekin =  0.079 eV (T =  609.6 K) Etot = -7.780 eV\n",
      "Energy per atom: Epot = -7.861 eV  Ekin =  0.075 eV (T =  578.1 K) Etot = -7.786 eV\n",
      "Energy per atom: Epot = -7.860 eV  Ekin =  0.079 eV (T =  609.4 K) Etot = -7.781 eV\n",
      "Energy per atom: Epot = -7.862 eV  Ekin =  0.079 eV (T =  608.8 K) Etot = -7.783 eV\n"
     ]
    }
   ],
   "metadata": {}
  },
  {
   "cell_type": "code",
   "execution_count": 12,
   "source": [
    "traj_new = Trajectory('fcc_600k.traj', 'r')\n",
    "atoms_new = traj_new[-1]\n",
    "print(len(atoms_new))\n",
    "write('fcc_600k.xyz', traj_new, columns=['symbols','positions'])\n",
    "#view(traj_new)"
   ],
   "outputs": [
    {
     "output_type": "stream",
     "name": "stdout",
     "text": [
      "1372\n"
     ]
    }
   ],
   "metadata": {}
  },
  {
   "cell_type": "markdown",
   "source": [
    "### bcc"
   ],
   "metadata": {}
  },
  {
   "cell_type": "code",
   "execution_count": 13,
   "source": [
    "# set original postions\n",
    "atoms_bcc.set_positions(bcc_orig_pos)\n",
    "# natoms = len(atoms_bcc)\n",
    "# mass = [1.0 for i in range(natoms)]\n",
    "# atoms_bcc.set_masses(mass)\n",
    "print(atoms_bcc.get_masses())\n",
    "\n",
    "# running MD simulation\n",
    "# initial velocities\n",
    "MaxwellBoltzmannDistribution(atoms_bcc, temperature_K=600)\n",
    "\n",
    "# run constant temperature (NVT) MD\n",
    "# Room temperature simulation (300 Kelvin, Andersen probability: 0.002)\n",
    "runmd = Andersen(atoms_bcc, 0.001, 600, 0.02)\n",
    "traj = Trajectory('bcc_600k.traj', 'w', atoms_bcc)\n",
    "runmd.attach(traj.write, interval=100)\n",
    "\n",
    "#Now run the dynamics\n",
    "print('\\nRunning MD for bulk bcc\\n')\n",
    "printenergy(atoms_bcc)\n",
    "for i in range(20):\n",
    "    runmd.run(500)\n",
    "    printenergy(atoms_bcc)"
   ],
   "outputs": [
    {
     "output_type": "stream",
     "name": "stdout",
     "text": [
      "[1.008 1.008 1.008 ... 1.008 1.008 1.008]\n",
      "\n",
      "Running MD for bulk bcc\n",
      "\n",
      "Energy per atom: Epot = -7.581 eV  Ekin =  0.079 eV (T =  609.8 K) Etot = -7.502 eV\n",
      "Energy per atom: Epot = -7.513 eV  Ekin =  0.075 eV (T =  580.4 K) Etot = -7.438 eV\n",
      "Energy per atom: Epot = -7.511 eV  Ekin =  0.078 eV (T =  606.1 K) Etot = -7.433 eV\n",
      "Energy per atom: Epot = -7.516 eV  Ekin =  0.079 eV (T =  611.4 K) Etot = -7.436 eV\n",
      "Energy per atom: Epot = -7.533 eV  Ekin =  0.082 eV (T =  631.3 K) Etot = -7.451 eV\n",
      "Energy per atom: Epot = -7.549 eV  Ekin =  0.082 eV (T =  633.1 K) Etot = -7.467 eV\n",
      "Energy per atom: Epot = -7.554 eV  Ekin =  0.080 eV (T =  616.9 K) Etot = -7.475 eV\n",
      "Energy per atom: Epot = -7.563 eV  Ekin =  0.076 eV (T =  584.9 K) Etot = -7.487 eV\n",
      "Energy per atom: Epot = -7.572 eV  Ekin =  0.080 eV (T =  620.2 K) Etot = -7.492 eV\n",
      "Energy per atom: Epot = -7.582 eV  Ekin =  0.075 eV (T =  582.8 K) Etot = -7.507 eV\n",
      "Energy per atom: Epot = -7.590 eV  Ekin =  0.078 eV (T =  600.9 K) Etot = -7.512 eV\n",
      "Energy per atom: Epot = -7.587 eV  Ekin =  0.079 eV (T =  608.2 K) Etot = -7.509 eV\n",
      "Energy per atom: Epot = -7.592 eV  Ekin =  0.077 eV (T =  596.0 K) Etot = -7.515 eV\n",
      "Energy per atom: Epot = -7.593 eV  Ekin =  0.077 eV (T =  593.9 K) Etot = -7.516 eV\n",
      "Energy per atom: Epot = -7.595 eV  Ekin =  0.075 eV (T =  579.4 K) Etot = -7.520 eV\n",
      "Energy per atom: Epot = -7.591 eV  Ekin =  0.078 eV (T =  605.8 K) Etot = -7.513 eV\n",
      "Energy per atom: Epot = -7.589 eV  Ekin =  0.075 eV (T =  581.5 K) Etot = -7.514 eV\n",
      "Energy per atom: Epot = -7.593 eV  Ekin =  0.076 eV (T =  587.8 K) Etot = -7.517 eV\n",
      "Energy per atom: Epot = -7.590 eV  Ekin =  0.080 eV (T =  617.9 K) Etot = -7.510 eV\n",
      "Energy per atom: Epot = -7.591 eV  Ekin =  0.074 eV (T =  570.2 K) Etot = -7.517 eV\n",
      "Energy per atom: Epot = -7.588 eV  Ekin =  0.075 eV (T =  580.7 K) Etot = -7.513 eV\n"
     ]
    }
   ],
   "metadata": {}
  },
  {
   "cell_type": "code",
   "execution_count": 14,
   "source": [
    "traj_new = Trajectory('bcc_600k.traj', 'r')\n",
    "atoms_new = traj_new[-1]\n",
    "print(len(atoms_new))\n",
    "write('bcc_600k.xyz', traj_new, columns=['symbols','positions'])\n",
    "#view(traj_new)"
   ],
   "outputs": [
    {
     "output_type": "stream",
     "name": "stdout",
     "text": [
      "1024\n"
     ]
    }
   ],
   "metadata": {}
  },
  {
   "cell_type": "markdown",
   "source": [
    "### hcp"
   ],
   "metadata": {}
  },
  {
   "cell_type": "code",
   "execution_count": 15,
   "source": [
    "# set original postions\n",
    "atoms_hcp.set_positions(hcp_orig_pos)\n",
    "\n",
    "# running MD simulation\n",
    "# initial velocities\n",
    "MaxwellBoltzmannDistribution(atoms_hcp, temperature_K=600)\n",
    "\n",
    "# run constant temperature (NVT) MD\n",
    "# Room temperature simulation (300 Kelvin, Andersen probability: 0.002)\n",
    "runmd = Andersen(atoms_hcp, 0.001, 600, 0.02)\n",
    "traj = Trajectory('hcp_600k.traj', 'w', atoms_hcp)\n",
    "runmd.attach(traj.write, interval=100)\n",
    "\n",
    "#Now run the dynamics\n",
    "print('\\nRunning MD for bulk hcp\\n')\n",
    "printenergy(atoms_hcp)\n",
    "for i in range(20):\n",
    "    runmd.run(500)\n",
    "    printenergy(atoms_hcp)"
   ],
   "outputs": [
    {
     "output_type": "stream",
     "name": "stdout",
     "text": [
      "\n",
      "Running MD for bulk hcp\n",
      "\n",
      "Energy per atom: Epot = -7.941 eV  Ekin =  0.078 eV (T =  602.4 K) Etot = -7.863 eV\n",
      "Energy per atom: Epot = -7.863 eV  Ekin =  0.076 eV (T =  586.5 K) Etot = -7.787 eV\n",
      "Energy per atom: Epot = -7.863 eV  Ekin =  0.076 eV (T =  589.7 K) Etot = -7.787 eV\n",
      "Energy per atom: Epot = -7.865 eV  Ekin =  0.078 eV (T =  601.9 K) Etot = -7.787 eV\n",
      "Energy per atom: Epot = -7.866 eV  Ekin =  0.078 eV (T =  606.1 K) Etot = -7.787 eV\n",
      "Energy per atom: Epot = -7.861 eV  Ekin =  0.080 eV (T =  620.0 K) Etot = -7.781 eV\n",
      "Energy per atom: Epot = -7.860 eV  Ekin =  0.079 eV (T =  608.2 K) Etot = -7.782 eV\n",
      "Energy per atom: Epot = -7.862 eV  Ekin =  0.078 eV (T =  604.4 K) Etot = -7.784 eV\n",
      "Energy per atom: Epot = -7.867 eV  Ekin =  0.075 eV (T =  578.9 K) Etot = -7.792 eV\n",
      "Energy per atom: Epot = -7.862 eV  Ekin =  0.077 eV (T =  595.2 K) Etot = -7.786 eV\n",
      "Energy per atom: Epot = -7.863 eV  Ekin =  0.077 eV (T =  594.3 K) Etot = -7.787 eV\n",
      "Energy per atom: Epot = -7.862 eV  Ekin =  0.077 eV (T =  599.4 K) Etot = -7.784 eV\n",
      "Energy per atom: Epot = -7.862 eV  Ekin =  0.076 eV (T =  587.0 K) Etot = -7.786 eV\n",
      "Energy per atom: Epot = -7.862 eV  Ekin =  0.076 eV (T =  587.4 K) Etot = -7.786 eV\n",
      "Energy per atom: Epot = -7.866 eV  Ekin =  0.077 eV (T =  598.7 K) Etot = -7.789 eV\n",
      "Energy per atom: Epot = -7.862 eV  Ekin =  0.079 eV (T =  607.6 K) Etot = -7.783 eV\n",
      "Energy per atom: Epot = -7.863 eV  Ekin =  0.076 eV (T =  588.3 K) Etot = -7.787 eV\n",
      "Energy per atom: Epot = -7.862 eV  Ekin =  0.078 eV (T =  599.9 K) Etot = -7.785 eV\n",
      "Energy per atom: Epot = -7.864 eV  Ekin =  0.077 eV (T =  599.1 K) Etot = -7.786 eV\n",
      "Energy per atom: Epot = -7.862 eV  Ekin =  0.078 eV (T =  601.8 K) Etot = -7.785 eV\n",
      "Energy per atom: Epot = -7.865 eV  Ekin =  0.077 eV (T =  594.7 K) Etot = -7.788 eV\n"
     ]
    }
   ],
   "metadata": {}
  },
  {
   "cell_type": "code",
   "execution_count": 16,
   "source": [
    "traj_new = Trajectory('hcp_600k.traj', 'r')\n",
    "atoms_new = traj_new[-1]\n",
    "print(len(atoms_new))\n",
    "write('hcp_600k.xyz', traj_new, columns=['symbols','positions'])\n",
    "#view(traj_new)"
   ],
   "outputs": [
    {
     "output_type": "stream",
     "name": "stdout",
     "text": [
      "1134\n"
     ]
    }
   ],
   "metadata": {}
  },
  {
   "cell_type": "markdown",
   "source": [
    "### Liquid (heating up a simple cubic lattice)"
   ],
   "metadata": {}
  },
  {
   "cell_type": "code",
   "execution_count": 17,
   "source": [
    "# set original postions\n",
    "atoms_liquid.set_positions(liquid_orig_pos)\n",
    "\n",
    "# running MD simulation\n",
    "# initial velocities\n",
    "MaxwellBoltzmannDistribution(atoms_liquid, temperature_K=3000)\n",
    "\n",
    "# run constant temperature (NVT) MD\n",
    "# Room temperature simulation (300 Kelvin, Andersen probability: 0.002)\n",
    "runmd = Andersen(atoms_liquid, 0.001, 3000, 0.02)\n",
    "traj = Trajectory('liquid_3000k.traj', 'w', atoms_liquid)\n",
    "runmd.attach(traj.write, interval=100)\n",
    "\n",
    "#Now run the dynamics\n",
    "print('\\nRunning MD for liquid\\n')\n",
    "printenergy(atoms_liquid)\n",
    "for i in range(20):\n",
    "    runmd.run(500)\n",
    "    printenergy(atoms_liquid)"
   ],
   "outputs": [
    {
     "output_type": "stream",
     "name": "stdout",
     "text": [
      "\n",
      "Running MD for liquid\n",
      "\n",
      "Energy per atom: Epot = -5.078 eV  Ekin =  0.396 eV (T =  3063.0 K) Etot = -4.682 eV\n",
      "Energy per atom: Epot = -4.882 eV  Ekin =  0.387 eV (T =  2994.7 K) Etot = -4.495 eV\n",
      "Energy per atom: Epot = -5.077 eV  Ekin =  0.427 eV (T =  3300.4 K) Etot = -4.650 eV\n",
      "Energy per atom: Epot = -5.224 eV  Ekin =  0.403 eV (T =  3114.3 K) Etot = -4.822 eV\n",
      "Energy per atom: Epot = -5.294 eV  Ekin =  0.392 eV (T =  3035.8 K) Etot = -4.902 eV\n",
      "Energy per atom: Epot = -5.290 eV  Ekin =  0.387 eV (T =  2994.5 K) Etot = -4.903 eV\n",
      "Energy per atom: Epot = -5.306 eV  Ekin =  0.393 eV (T =  3042.3 K) Etot = -4.913 eV\n",
      "Energy per atom: Epot = -5.343 eV  Ekin =  0.393 eV (T =  3043.8 K) Etot = -4.949 eV\n",
      "Energy per atom: Epot = -5.361 eV  Ekin =  0.383 eV (T =  2966.2 K) Etot = -4.977 eV\n",
      "Energy per atom: Epot = -5.369 eV  Ekin =  0.382 eV (T =  2952.5 K) Etot = -4.987 eV\n",
      "Energy per atom: Epot = -5.383 eV  Ekin =  0.379 eV (T =  2933.6 K) Etot = -5.004 eV\n",
      "Energy per atom: Epot = -5.400 eV  Ekin =  0.407 eV (T =  3151.1 K) Etot = -4.993 eV\n",
      "Energy per atom: Epot = -5.391 eV  Ekin =  0.394 eV (T =  3045.1 K) Etot = -4.997 eV\n",
      "Energy per atom: Epot = -5.388 eV  Ekin =  0.386 eV (T =  2984.8 K) Etot = -5.002 eV\n",
      "Energy per atom: Epot = -5.421 eV  Ekin =  0.385 eV (T =  2980.0 K) Etot = -5.036 eV\n",
      "Energy per atom: Epot = -5.411 eV  Ekin =  0.401 eV (T =  3105.8 K) Etot = -5.009 eV\n",
      "Energy per atom: Epot = -5.410 eV  Ekin =  0.398 eV (T =  3076.7 K) Etot = -5.012 eV\n",
      "Energy per atom: Epot = -5.437 eV  Ekin =  0.384 eV (T =  2969.8 K) Etot = -5.053 eV\n",
      "Energy per atom: Epot = -5.447 eV  Ekin =  0.400 eV (T =  3093.6 K) Etot = -5.047 eV\n",
      "Energy per atom: Epot = -5.463 eV  Ekin =  0.380 eV (T =  2939.5 K) Etot = -5.083 eV\n",
      "Energy per atom: Epot = -5.468 eV  Ekin =  0.399 eV (T =  3085.8 K) Etot = -5.069 eV\n"
     ]
    }
   ],
   "metadata": {}
  },
  {
   "cell_type": "code",
   "execution_count": 18,
   "source": [
    "traj_new = Trajectory('liquid_3000k.traj', 'r')\n",
    "atoms_new = traj_new[-1]\n",
    "print(len(atoms_new))\n",
    "write('liquid_3000k.xyz', traj_new, columns=['symbols','positions'])\n",
    "#view(traj_new)"
   ],
   "outputs": [
    {
     "output_type": "stream",
     "name": "stdout",
     "text": [
      "1000\n"
     ]
    }
   ],
   "metadata": {}
  },
  {
   "cell_type": "markdown",
   "source": [
    "### Diamond (unstable)"
   ],
   "metadata": {}
  },
  {
   "cell_type": "code",
   "execution_count": 19,
   "source": [
    "# set original postions\n",
    "atoms_diamond.set_positions(diamond_orig_pos)\n",
    "natoms = len(atoms_diamond)\n",
    "mass = [1.0 for i in range(natoms)]\n",
    "atoms_diamond.set_masses(mass)\n",
    "\n",
    "# running MD simulation\n",
    "# initial velocities\n",
    "MaxwellBoltzmannDistribution(atoms_diamond, temperature_K=100)\n",
    "\n",
    "# run constant energy (NVE) MD\n",
    "#bccmd = VelocityVerlet(atoms_bcc, 0.02)\n",
    "\n",
    "# run constant temperature (NVT) MD\n",
    "#bccmd = Langevin(atoms_bcc, 5 * units.fs, 300, 0.002)\n",
    "# Room temperature simulation (300 Kelvin, Andersen probability: 0.002)\n",
    "# bccmd = Andersen(atoms_bcc, 2 * units.fs, 300, 0.002)\n",
    "# traj = Trajectory('mytry.traj', 'w', atoms_bcc)\n",
    "# bccmd.attach(traj.write, interval=100)\n",
    "\n",
    "diamondmd = Andersen(atoms_diamond, 0.001, 100, 0.02)\n",
    "traj = Trajectory('diamond_100k.traj', 'w', atoms_diamond)\n",
    "diamondmd.attach(traj.write, interval=20)\n",
    "\n",
    "# Now run the dynamics\n",
    "# print('\\nRunning MD for bulk bcc\\n')\n",
    "# printenergy(atoms_bcc)\n",
    "# for i in range(5):\n",
    "#     bccmd.run(100)\n",
    "#     printenergy(atoms_bcc)\n",
    "    \n",
    "\n",
    "print('\\nRunning MD for bulk diamond\\n')\n",
    "printenergy(atoms_diamond)\n",
    "for i in range(10):\n",
    "    diamondmd.run(20)\n",
    "    printenergy(atoms_diamond)"
   ],
   "outputs": [
    {
     "output_type": "error",
     "ename": "NameError",
     "evalue": "name 'atoms_diamond' is not defined",
     "traceback": [
      "\u001b[0;31m---------------------------------------------------------------------------\u001b[0m",
      "\u001b[0;31mNameError\u001b[0m                                 Traceback (most recent call last)",
      "\u001b[0;32m/tmp/ipykernel_97052/3165158054.py\u001b[0m in \u001b[0;36m<module>\u001b[0;34m\u001b[0m\n\u001b[1;32m      1\u001b[0m \u001b[0;31m# set original postions\u001b[0m\u001b[0;34m\u001b[0m\u001b[0;34m\u001b[0m\u001b[0m\n\u001b[0;32m----> 2\u001b[0;31m \u001b[0matoms_diamond\u001b[0m\u001b[0;34m.\u001b[0m\u001b[0mset_positions\u001b[0m\u001b[0;34m(\u001b[0m\u001b[0mdiamond_orig_pos\u001b[0m\u001b[0;34m)\u001b[0m\u001b[0;34m\u001b[0m\u001b[0;34m\u001b[0m\u001b[0m\n\u001b[0m\u001b[1;32m      3\u001b[0m \u001b[0mnatoms\u001b[0m \u001b[0;34m=\u001b[0m \u001b[0mlen\u001b[0m\u001b[0;34m(\u001b[0m\u001b[0matoms_diamond\u001b[0m\u001b[0;34m)\u001b[0m\u001b[0;34m\u001b[0m\u001b[0;34m\u001b[0m\u001b[0m\n\u001b[1;32m      4\u001b[0m \u001b[0mmass\u001b[0m \u001b[0;34m=\u001b[0m \u001b[0;34m[\u001b[0m\u001b[0;36m1.0\u001b[0m \u001b[0;32mfor\u001b[0m \u001b[0mi\u001b[0m \u001b[0;32min\u001b[0m \u001b[0mrange\u001b[0m\u001b[0;34m(\u001b[0m\u001b[0mnatoms\u001b[0m\u001b[0;34m)\u001b[0m\u001b[0;34m]\u001b[0m\u001b[0;34m\u001b[0m\u001b[0;34m\u001b[0m\u001b[0m\n\u001b[1;32m      5\u001b[0m \u001b[0matoms_diamond\u001b[0m\u001b[0;34m.\u001b[0m\u001b[0mset_masses\u001b[0m\u001b[0;34m(\u001b[0m\u001b[0mmass\u001b[0m\u001b[0;34m)\u001b[0m\u001b[0;34m\u001b[0m\u001b[0;34m\u001b[0m\u001b[0m\n",
      "\u001b[0;31mNameError\u001b[0m: name 'atoms_diamond' is not defined"
     ]
    }
   ],
   "metadata": {}
  },
  {
   "cell_type": "markdown",
   "source": [
    "### Simple cubic (unstable)"
   ],
   "metadata": {}
  },
  {
   "cell_type": "code",
   "execution_count": null,
   "source": [
    "# set original postions\n",
    "atoms_sc.set_positions(sc_orig_pos)\n",
    "\n",
    "# running MD simulation\n",
    "# initial velocities\n",
    "MaxwellBoltzmannDistribution(atoms_sc, temperature_K=300)\n",
    "\n",
    "# run constant temperature (NVT) MD\n",
    "runmd = Andersen(atoms_sc, 0.5 * units.fs, 100, 0.02)\n",
    "traj = Trajectory('mytry.traj', 'w', atoms_sc)\n",
    "runmd.attach(traj.write, interval=20)    \n",
    "\n",
    "print('\\nRunning MD for bulk simple cubic\\n')\n",
    "printenergy(atoms_sc)\n",
    "for i in range(10):\n",
    "    runmd.run(20)\n",
    "    printenergy(atoms_sc)"
   ],
   "outputs": [
    {
     "output_type": "stream",
     "name": "stdout",
     "text": [
      "\n",
      "Running MD for bulk simple cubic\n",
      "\n",
      "Energy per atom: Epot = -5.193 eV  Ekin =  0.039 eV (T =  302.2 K) Etot = -5.154 eV\n",
      "Energy per atom: Epot = -5.183 eV  Ekin =  0.026 eV (T =  201.6 K) Etot = -5.157 eV\n",
      "Energy per atom: Epot = -5.199 eV  Ekin =  0.036 eV (T =  282.2 K) Etot = -5.163 eV\n",
      "Energy per atom: Epot = -5.293 eV  Ekin =  0.111 eV (T =  855.3 K) Etot = -5.182 eV\n",
      "Energy per atom: Epot = -5.608 eV  Ekin =  0.347 eV (T =  2682.3 K) Etot = -5.261 eV\n",
      "Energy per atom: Epot = -5.732 eV  Ekin =  0.338 eV (T =  2614.6 K) Etot = -5.394 eV\n",
      "Energy per atom: Epot = -5.788 eV  Ekin =  0.269 eV (T =  2084.3 K) Etot = -5.519 eV\n",
      "Energy per atom: Epot = -5.847 eV  Ekin =  0.232 eV (T =  1797.6 K) Etot = -5.615 eV\n",
      "Energy per atom: Epot = -5.906 eV  Ekin =  0.209 eV (T =  1614.6 K) Etot = -5.697 eV\n",
      "Energy per atom: Epot = -5.955 eV  Ekin =  0.187 eV (T =  1446.2 K) Etot = -5.768 eV\n",
      "Energy per atom: Epot = -5.993 eV  Ekin =  0.165 eV (T =  1275.5 K) Etot = -5.829 eV\n"
     ]
    }
   ],
   "metadata": {}
  },
  {
   "cell_type": "code",
   "execution_count": null,
   "source": [
    "traj_new = Trajectory('mytry.traj', 'r')\n",
    "atoms_new = traj_new[-1]\n",
    "print(len(atoms_new))\n",
    "write('test.xyz', traj_new, columns=['symbols','positions'])\n",
    "#view(traj_new)"
   ],
   "outputs": [
    {
     "output_type": "stream",
     "name": "stdout",
     "text": [
      "1000\n"
     ]
    }
   ],
   "metadata": {}
  },
  {
   "cell_type": "markdown",
   "source": [
    "# Setup a descriptor: Behler-Parinello symmetry functions"
   ],
   "metadata": {}
  },
  {
   "cell_type": "markdown",
   "source": [
    "## Task 1: Setup a neighbour list and compute distances "
   ],
   "metadata": {}
  },
  {
   "cell_type": "code",
   "execution_count": 2,
   "source": [
    "from ase.neighborlist import neighbor_list\n",
    "\n",
    "# get number of atoms\n",
    "natoms = len(atoms)\n",
    "\n",
    "# set cutoffs\n",
    "cutoff = 3\n",
    "\n",
    "# compute the neighbour list\n",
    "i, j, r_ij = neighbor_list('ijd', atoms, cutoff, self_interaction=False)\n",
    "\n",
    "r_ij[i == 2]"
   ],
   "outputs": [
    {
     "output_type": "error",
     "ename": "NameError",
     "evalue": "name 'atoms' is not defined",
     "traceback": [
      "\u001b[0;31m---------------------------------------------------------------------------\u001b[0m",
      "\u001b[0;31mNameError\u001b[0m                                 Traceback (most recent call last)",
      "\u001b[0;32m/tmp/ipykernel_11460/459346995.py\u001b[0m in \u001b[0;36m<module>\u001b[0;34m\u001b[0m\n\u001b[1;32m      2\u001b[0m \u001b[0;34m\u001b[0m\u001b[0m\n\u001b[1;32m      3\u001b[0m \u001b[0;31m# get number of atoms\u001b[0m\u001b[0;34m\u001b[0m\u001b[0;34m\u001b[0m\u001b[0m\n\u001b[0;32m----> 4\u001b[0;31m \u001b[0mnatoms\u001b[0m \u001b[0;34m=\u001b[0m \u001b[0mlen\u001b[0m\u001b[0;34m(\u001b[0m\u001b[0matoms\u001b[0m\u001b[0;34m)\u001b[0m\u001b[0;34m\u001b[0m\u001b[0;34m\u001b[0m\u001b[0m\n\u001b[0m\u001b[1;32m      5\u001b[0m \u001b[0;34m\u001b[0m\u001b[0m\n\u001b[1;32m      6\u001b[0m \u001b[0;31m# set cutoffs\u001b[0m\u001b[0;34m\u001b[0m\u001b[0;34m\u001b[0m\u001b[0m\n",
      "\u001b[0;31mNameError\u001b[0m: name 'atoms' is not defined"
     ]
    }
   ],
   "metadata": {}
  },
  {
   "cell_type": "markdown",
   "source": [
    "## Task 2"
   ],
   "metadata": {}
  },
  {
   "cell_type": "code",
   "execution_count": 9,
   "source": [
    "from numpy import pi, cos, exp\n",
    "\n",
    "# cutoff function\n",
    "def cutoff_fc(dist, rmin, rmax):\n",
    "    dist = np.asarray(dist)\n",
    "    fc = np.ones_like(dist)\n",
    "    mask = dist > rmin\n",
    "    fc[mask] = 0.5*(cos((dist[mask]-rmin)*pi/(rmax-rmin)) + 1.0)\n",
    "    fc[dist >= rmax] = 0.\n",
    "    return fc\n",
    "\n",
    "# G1\n",
    "def G1(dist, rmin, rmax):\n",
    "    g1 = np.sum(cutoff_fc(dist,rmin,rmax))\n",
    "    return g1\n",
    "\n",
    "# G2\n",
    "def G2(dist, rmin, rmax, Rs, eta):\n",
    "    fc = cutoff_fc(dist,rmin,rmax)\n",
    "    dist = np.asarray(dist)\n",
    "    dr = dist - Rs\n",
    "    g2 = np.sum(exp(-eta*dr*dr)*fc)\n",
    "    return g2\n",
    "\n",
    "# G3\n",
    "def G3(dist, rmin, rmax, kappa):\n",
    "    fc = cutoff_fc(dist,rmin,rmax)\n",
    "    dist = np.asarray(dist)\n",
    "    g3 = np.sum(cos(dist*kappa)*fc)\n",
    "    return g3"
   ],
   "outputs": [],
   "metadata": {}
  },
  {
   "cell_type": "markdown",
   "source": [
    "## Task 3: Compute symmetry function with certain set of values for a single atom in each structure"
   ],
   "metadata": {}
  },
  {
   "cell_type": "code",
   "execution_count": 33,
   "source": [
    "# read trajectory\n",
    "traj_fcc600 = Trajectory('fcc_600k.traj', 'r')\n",
    "traj_bcc600 = Trajectory('bcc_600k.traj', 'r')\n",
    "traj_hcp600 = Trajectory('hcp_600k.traj','r')\n",
    "traj_liq3000 = Trajectory('liquid_3000K.traj', 'r')\n",
    "# take last slice of trajectory\n",
    "atoms_fcc600 = traj_fcc600[-1]\n",
    "atoms_bcc600 = traj_bcc600[-1]\n",
    "atoms_hcp600 = traj_hcp600[-1]\n",
    "atoms_liq3000 = traj_liq3000[-1]\n",
    "\n",
    "# set parameters\n",
    "# compute only for this atom in each structure\n",
    "atom_index = 1\n",
    "# set parameters; rmax < 2*cutoffs, otherwise not all atoms in the neighbourlist\n",
    "rmin = 2.6\n",
    "rmax = 2.8\n",
    "Rs = 1.4\n",
    "eta = 100\n",
    "kappa = 3.5\n",
    "\n",
    "struc_name=['fcc','bcc','hcp','liq']\n",
    "\n",
    "# loop over the structures\n",
    "k = 0\n",
    "for atoms in atoms_fcc600, atoms_bcc600, atoms_hcp600, atoms_liq3000:\n",
    "    # make a neighbourlist\n",
    "    natoms = len(atoms)\n",
    "    cutoff = 3\n",
    "    i, j, r_ij = neighbor_list('ijd', atoms, cutoff, self_interaction=False)\n",
    "    \n",
    "    # compute G1, G2, G3\n",
    "    g1 = G1(r_ij[i==atom_index],rmin,rmax)\n",
    "    g2 = G2(r_ij[i==atom_index],rmin,rmax,Rs,eta)\n",
    "    g3 = G3(r_ij[i==atom_index],rmin,rmax,kappa)\n",
    "\n",
    "    print(f'{struc_name[k]}:  G1 = {g1:.3f}, G2 = {g2:.3f}, G3 = {g3:.3f}')\n",
    "    \n",
    "    k += 1"
   ],
   "outputs": [
    {
     "output_type": "stream",
     "name": "stdout",
     "text": [
      "fcc:  G1 = 40.349, G2 = 0.245, G3 = 2.756\n",
      "bcc:  G1 = 54.147, G2 = 2.831, G3 = -9.941\n",
      "hcp:  G1 = 47.066, G2 = 0.154, G3 = -7.901\n",
      "liq:  G1 = 33.710, G2 = 1.721, G3 = -1.144\n"
     ]
    }
   ],
   "metadata": {}
  },
  {
   "cell_type": "code",
   "execution_count": 27,
   "source": [],
   "outputs": [
    {
     "output_type": "execute_result",
     "data": {
      "text/plain": [
       "40.34948038946787"
      ]
     },
     "metadata": {},
     "execution_count": 27
    }
   ],
   "metadata": {}
  },
  {
   "cell_type": "code",
   "execution_count": null,
   "source": [],
   "outputs": [],
   "metadata": {}
  }
 ],
 "metadata": {
  "kernelspec": {
   "name": "python3",
   "display_name": "Python 3.9.2 64-bit"
  },
  "language_info": {
   "codemirror_mode": {
    "name": "ipython",
    "version": 3
   },
   "file_extension": ".py",
   "mimetype": "text/x-python",
   "name": "python",
   "nbconvert_exporter": "python",
   "pygments_lexer": "ipython3",
   "version": "3.9.2"
  },
  "interpreter": {
   "hash": "4cd7ab41f5fca4b9b44701077e38c5ffd31fe66a6cab21e0214b68d958d0e462"
  }
 },
 "nbformat": 4,
 "nbformat_minor": 5
}
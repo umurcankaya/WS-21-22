{
 "cells": [
  {
   "cell_type": "code",
   "execution_count": 1,
   "id": "b82869cc",
   "metadata": {},
   "outputs": [],
   "source": [
    "import numpy as np\n",
    "\n",
    "from ase import Atoms, units\n",
    "from ase.calculators.lj import LennardJones\n",
    "from ase.optimize import BFGS\n",
    "from ase.constraints import FixedPlane\n",
    "from ase.visualize import view\n",
    "\n",
    "from math import sqrt, exp\n",
    "\n",
    "import matplotlib.pyplot as plt"
   ]
  },
  {
   "cell_type": "code",
   "execution_count": 2,
   "id": "e3967fbf",
   "metadata": {},
   "outputs": [
    {
     "data": {
      "text/plain": [
       "<subprocess.Popen at 0x7fc52b587e50>"
      ]
     },
     "execution_count": 2,
     "metadata": {},
     "output_type": "execute_result"
    }
   ],
   "source": [
    "# trimer along the x-axis\n",
    "d = 1.0\n",
    "trimer = Atoms('3Ar',[(0.0,0.0,0.0),(d,0.0,0.0),(-d,0.0,0.0)])\n",
    "\n",
    "# getting the positions\n",
    "pos = trimer.get_positions()\n",
    "\n",
    "# modifying positions\n",
    "pos += 0.1\n",
    "        \n",
    "# setting positions\n",
    "trimer.set_positions(pos)\n",
    "\n",
    "# getting all distances\n",
    "alldist = trimer.get_all_distances()\n",
    "\n",
    "# viewing the trimer\n",
    "view(trimer)"
   ]
  },
  {
   "cell_type": "markdown",
   "id": "408862e6-1aa3-4fa4-ac62-ec7882e51cda",
   "metadata": {},
   "source": [
    "## 3 Initial cluster setup"
   ]
  },
  {
   "cell_type": "code",
   "execution_count": 84,
   "id": "433217da-6c45-4c20-b912-9ae9a485c762",
   "metadata": {},
   "outputs": [],
   "source": [
    "def R(θ):\n",
    "    \"\"\"\n",
    "    2D Rotation matrix for counterclockwise\n",
    "    rotaion by θ around origin \n",
    "    \"\"\"\n",
    "    return np.array([[np.cos(θ), -np.sin(θ)]\n",
    "                    ,[np.sin(θ),  np.cos(θ)]])"
   ]
  },
  {
   "cell_type": "code",
   "execution_count": 87,
   "id": "6225d196-511f-4fc8-8693-5c85bb736563",
   "metadata": {},
   "outputs": [],
   "source": [
    "a = 1.1\n",
    "positions = np.zeros((7,3))\n",
    "positions[1:,0] = a\n",
    "\n",
    "rotations = np.array([np.linalg.matrix_power(R(np.pi/3),n) for n in range(6)])\n",
    "\n",
    "positions[1:,:2] = np.einsum('ijk,ik->ij', rotations, positions[1:,:2])"
   ]
  },
  {
   "cell_type": "code",
   "execution_count": 88,
   "id": "fe78b270-bb80-44b1-a24c-e466c240082e",
   "metadata": {},
   "outputs": [
    {
     "data": {
      "text/plain": [
       "<subprocess.Popen at 0x7fc52242c550>"
      ]
     },
     "execution_count": 88,
     "metadata": {},
     "output_type": "execute_result"
    }
   ],
   "source": [
    "cluster_2d = Atoms('7Ar',positions)\n",
    "view(cluster_2d)"
   ]
  },
  {
   "cell_type": "code",
   "execution_count": 89,
   "id": "28647538-e978-42dc-9db0-658a3675d0df",
   "metadata": {},
   "outputs": [
    {
     "data": {
      "text/plain": [
       "array([[ 0.00000000e+00,  0.00000000e+00,  0.00000000e+00],\n",
       "       [ 0.00000000e+00,  0.00000000e+00,  1.10000000e+00],\n",
       "       [ 0.00000000e+00,  0.00000000e+00, -1.10000000e+00],\n",
       "       [ 1.10000000e+00,  0.00000000e+00,  0.00000000e+00],\n",
       "       [ 6.73555740e-17,  1.10000000e+00,  0.00000000e+00],\n",
       "       [-1.10000000e+00,  1.34711148e-16,  0.00000000e+00],\n",
       "       [-2.02066722e-16, -1.10000000e+00,  0.00000000e+00]])"
      ]
     },
     "execution_count": 89,
     "metadata": {},
     "output_type": "execute_result"
    }
   ],
   "source": [
    "positions = np.zeros((7,3))\n",
    "positions[[1,2],2] = a, -a\n",
    "positions[3:,0] = a\n",
    "\n",
    "rotations = np.array([np.linalg.matrix_power(R(np.pi/2),n) for n in range(4)])\n",
    "\n",
    "positions[3:,:2] = np.einsum('ijk,ik->ij', rotations, positions[3:,:2])"
   ]
  },
  {
   "cell_type": "markdown",
   "id": "2a29fecc",
   "metadata": {},
   "source": [
    "## Setting a calculator, computing the energy, and minimization"
   ]
  },
  {
   "cell_type": "code",
   "execution_count": null,
   "id": "29160352-439e-405a-8abc-3b69e16ed094",
   "metadata": {},
   "outputs": [],
   "source": []
  },
  {
   "cell_type": "code",
   "execution_count": null,
   "id": "b056670d-ed3f-443d-83ae-edea7b2d79bb",
   "metadata": {},
   "outputs": [],
   "source": []
  },
  {
   "cell_type": "code",
   "execution_count": null,
   "id": "e74bf73c-090c-4e13-a4d9-97d645266a9e",
   "metadata": {},
   "outputs": [],
   "source": []
  },
  {
   "cell_type": "code",
   "execution_count": null,
   "id": "8df1947e",
   "metadata": {},
   "outputs": [],
   "source": [
    "# setting the calculator\n",
    "ljcalc = LennardJones()\n",
    "trimer.calc = ljcalc\n",
    "\n",
    "# computing the energy\n",
    "epot = trimer.get_potential_energy()\n",
    "\n",
    "# constrain to xy-plane each atom index in trimer\n",
    "trimer.set_constraint(FixedPlane(a=np.arange(len(trimer)), direction=[0,0,1]))\n",
    "\n",
    "# setting and running a minimizer\n",
    "trimer_mini = BFGS(trimer)\n",
    "trimer_mini.run(fmax=0.05)\n",
    "\n",
    "# Boltzman constant in units eV/K\n",
    "units.kB"
   ]
  },
  {
   "cell_type": "markdown",
   "id": "755d8954",
   "metadata": {},
   "source": [
    "# Random numbers"
   ]
  },
  {
   "cell_type": "code",
   "execution_count": null,
   "id": "a713a709",
   "metadata": {},
   "outputs": [],
   "source": [
    "from numpy.random import default_rng\n",
    "# a random number generator\n",
    "rng = default_rng(19884)\n",
    "\n",
    "# a sample from the gaussian distribution N(0, 1)\n",
    "x_g = rng.standard_normal()\n",
    "\n",
    "# a sample from the uniform distribution on [0,1]\n",
    "x_u = rng.uniform()"
   ]
  },
  {
   "cell_type": "code",
   "execution_count": null,
   "id": "b9826f3f",
   "metadata": {},
   "outputs": [],
   "source": []
  }
 ],
 "metadata": {
  "interpreter": {
   "hash": "4cd7ab41f5fca4b9b44701077e38c5ffd31fe66a6cab21e0214b68d958d0e462"
  },
  "kernelspec": {
   "display_name": "Python 3",
   "language": "python",
   "name": "python3"
  },
  "language_info": {
   "codemirror_mode": {
    "name": "ipython",
    "version": 3
   },
   "file_extension": ".py",
   "mimetype": "text/x-python",
   "name": "python",
   "nbconvert_exporter": "python",
   "pygments_lexer": "ipython3",
   "version": "3.8.12"
  }
 },
 "nbformat": 4,
 "nbformat_minor": 5
}

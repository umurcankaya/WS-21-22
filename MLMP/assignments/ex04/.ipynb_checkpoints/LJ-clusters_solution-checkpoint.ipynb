{
 "cells": [
  {
   "cell_type": "code",
   "execution_count": 6,
   "source": [
    "import numpy as np\n",
    "\n",
    "from ase import Atoms, units\n",
    "from ase.calculators.lj import LennardJones\n",
    "from ase.optimize import BFGS\n",
    "from ase.constraints import FixedPlane\n",
    "from math import sqrt, exp\n",
    "from ase.visualize import view\n",
    "\n",
    "\n",
    "import matplotlib.pyplot as plt\n",
    "from matplotlib.colors import ListedColormap\n",
    "from sklearn.metrics import mean_squared_error, mean_absolute_error, r2_score\n",
    "from sklearn.model_selection import ShuffleSplit\n",
    "from sklearn.neural_network import MLPRegressor"
   ],
   "outputs": [],
   "metadata": {}
  },
  {
   "cell_type": "markdown",
   "source": [
    "# Initial cluster setup"
   ],
   "metadata": {}
  },
  {
   "cell_type": "markdown",
   "source": [
    "## Task 1: LJ potential\n",
    "\n",
    "$$\n",
    "V_{\\text{LJ}}(\\mathbf{r}) = \\sum_i^N \\sum_{j>i}^N 4 \\epsilon_{ij} \\left[ \\left(\\frac{\\sigma_{ij}}{|\\mathbf{r}_{ij}|} \\right)^{12} - \\left(\\frac{\\sigma_{ij}}{|\\mathbf{r}_{ij}|} \\right)^{6} \\right]\n",
    "$$\n",
    "\n",
    "$\\sigma$ determines the length scale of the interaction (size of the particles) and $\\epsilon$ the interaction strength (depth of the potential).  The default values in ASE are $\\sigma = 1$ Ang and $\\epsilon = 1$ eV."
   ],
   "metadata": {}
  },
  {
   "cell_type": "code",
   "execution_count": 8,
   "source": [
    "# set up 2 clusters with 7 atoms each, one 3d, one 2d\n",
    "\n",
    "d = 1.1\n",
    "\n",
    "# 3d cluster\n",
    "clus3d = Atoms('7Ar',[(0.0,0.0,0.0),(d/sqrt(2),d/sqrt(2),0.0),(-d/sqrt(2),d/sqrt(2),0.0),\n",
    "                      (d/sqrt(2),-d/sqrt(2),0.0),(-d/sqrt(2),-d/sqrt(2),0.0),(0,0,d),(0,0,-d)])\n",
    "print('\\n3D cluster initial positions:')\n",
    "print(clus3d.get_positions())\n",
    "\n",
    "# 2d cluster\n",
    "print('\\n2D cluster initial positions:')\n",
    "clus2d = Atoms('7Ar',[(0.0,0.0,0.0),(d,0.0,0.0),(-d,0.0,0.0),(d/2,d/2*sqrt(3),0.0),\n",
    "                     (-d/2,d/2*sqrt(3),0.0),(-d/2,-d/2*sqrt(3),0.0),(d/2,-d/2*sqrt(3),0)])\n",
    "print(clus2d.get_positions())\n",
    "\n",
    "# set LJ calculator and print out initial energy\n",
    "ljcalc = LennardJones()\n",
    "clus3d.calc = ljcalc\n",
    "clus2d.calc = ljcalc\n",
    "\n",
    "clus3dpot = clus3d.get_potential_energy()\n",
    "clus2dpot = clus2d.get_potential_energy()\n",
    "\n",
    "print('\\n')\n",
    "print(f'3D cluster initial potential energy = {clus3dpot:5.3f} eV')\n",
    "print(f'2D cluster initial potential energy = {clus2dpot:5.3f} eV')\n",
    "print('\\n')\n",
    "\n"
   ],
   "outputs": [
    {
     "output_type": "stream",
     "name": "stdout",
     "text": [
      "\n",
      "3D cluster initial positions:\n",
      "[[ 0.          0.          0.        ]\n",
      " [ 0.77781746  0.77781746  0.        ]\n",
      " [-0.77781746  0.77781746  0.        ]\n",
      " [ 0.77781746 -0.77781746  0.        ]\n",
      " [-0.77781746 -0.77781746  0.        ]\n",
      " [ 0.          0.          1.1       ]\n",
      " [ 0.          0.         -1.1       ]]\n",
      "\n",
      "2D cluster initial positions:\n",
      "[[ 0.          0.          0.        ]\n",
      " [ 1.1         0.          0.        ]\n",
      " [-1.1         0.          0.        ]\n",
      " [ 0.55        0.95262794  0.        ]\n",
      " [-0.55        0.95262794  0.        ]\n",
      " [-0.55       -0.95262794  0.        ]\n",
      " [ 0.55       -0.95262794  0.        ]]\n",
      "\n",
      "\n",
      "3D cluster initial potential energy = -9.038 eV\n",
      "2D cluster initial potential energy = -12.282 eV\n",
      "\n",
      "\n"
     ]
    }
   ],
   "metadata": {
    "scrolled": true
   }
  },
  {
   "cell_type": "markdown",
   "source": [
    "## Task 2: Optimizing the initial cluster structures"
   ],
   "metadata": {}
  },
  {
   "cell_type": "code",
   "execution_count": 9,
   "source": [
    "# perform initial energy minimizaion\n",
    "dyn3d = BFGS(clus3d)\n",
    "dyn3d.run(fmax=0.05)\n",
    "\n",
    "\n",
    "# constrain 2D cluster to xy-plane\n",
    "c=[]\n",
    "for i in range(len(clus2d)):\n",
    "    c.append(FixedPlane(a=i, direction=[0,0,1]))\n",
    "clus2d.set_constraint(c)\n",
    "dyn2d = BFGS(clus2d)\n",
    "dyn2d.run(fmax=0.05)\n",
    "\n",
    "\n",
    "# print positions and energy after relaxation\n",
    "print('\\n3D cluster positions after relaxation:')\n",
    "print(clus3d.get_positions())\n",
    "clus3dpot = clus3d.get_potential_energy()\n",
    "print(f'\\n3D cluster potential energy after relaxation = {clus3dpot:5.3f} eV')\n",
    "\n",
    "print('\\n2D cluster positions after relaxation:')\n",
    "print(clus2d.get_positions())\n",
    "clus2dpot = clus2d.get_potential_energy()\n",
    "print(f'\\n2D cluster potential energy after relaxation = {clus2dpot:5.3f} eV')\n",
    "\n",
    "# reset all z-values of 2D cluster to zero and plot positions and energy again\n",
    "# pos2d = clus2d.get_positions()\n",
    "# for apos in pos2d:\n",
    "#     apos[2] = 0.0\n",
    "    \n",
    "# clus2d.set_positions(pos2d)\n",
    "# print('\\n2D cluster positions after relaxation and reset:')\n",
    "# print(clus2d.get_positions())\n",
    "# clus2dpot = clus2d.get_potential_energy()\n",
    "# print(f'\\n2D cluster potential energy after relaxation and reset = {clus2dpot:5.3f} eV')"
   ],
   "outputs": [
    {
     "output_type": "stream",
     "name": "stdout",
     "text": [
      "      Step     Time          Energy         fmax\n",
      "BFGS:    0 15:52:12       -9.037942        1.1509\n",
      "BFGS:    1 15:52:12       -9.087128        0.2280\n",
      "BFGS:    2 15:52:12       -9.088710        0.0317\n",
      "      Step     Time          Energy         fmax\n",
      "BFGS:    0 15:52:12      -12.281571        2.6446\n",
      "BFGS:    1 15:52:12      -12.300262        1.9416\n",
      "BFGS:    2 15:52:12      -12.415891        0.3876\n",
      "BFGS:    3 15:52:12      -12.419639        0.0803\n",
      "BFGS:    4 15:52:12      -12.419798        0.0025\n",
      "\n",
      "3D cluster positions after relaxation:\n",
      "[[ 0.00000000e+00  0.00000000e+00  0.00000000e+00]\n",
      " [ 7.68114033e-01  7.68114033e-01 -4.54907766e-19]\n",
      " [-7.68114033e-01  7.68114033e-01 -6.76947056e-20]\n",
      " [ 7.68114033e-01 -7.68114033e-01  2.93031638e-19]\n",
      " [-7.68114033e-01 -7.68114033e-01  3.47195432e-20]\n",
      " [-1.04556106e-19  5.54862210e-20  1.08627728e+00]\n",
      " [-3.91133673e-21  2.92589406e-20 -1.08627728e+00]]\n",
      "\n",
      "3D cluster potential energy after relaxation = -9.089 eV\n",
      "\n",
      "2D cluster positions after relaxation:\n",
      "[[ 0.00000000e+00  0.00000000e+00  0.00000000e+00]\n",
      " [ 1.11848102e+00 -1.62917405e-17  0.00000000e+00]\n",
      " [-1.11848102e+00  2.24645452e-19  0.00000000e+00]\n",
      " [ 5.59240510e-01  9.68632977e-01  0.00000000e+00]\n",
      " [-5.59240510e-01  9.68632977e-01  0.00000000e+00]\n",
      " [-5.59240510e-01 -9.68632977e-01  0.00000000e+00]\n",
      " [ 5.59240510e-01 -9.68632977e-01  0.00000000e+00]]\n",
      "\n",
      "2D cluster potential energy after relaxation = -12.420 eV\n"
     ]
    }
   ],
   "metadata": {}
  },
  {
   "cell_type": "code",
   "execution_count": 10,
   "source": [
    "# look at the clusters, set 'Scale atomic radii' to 0.5\n",
    "view(clus2d)"
   ],
   "outputs": [
    {
     "output_type": "execute_result",
     "data": {
      "text/plain": [
       "<Popen: returncode: None args: ['/usr/local/bin/python', '-m', 'ase', 'gui',...>"
      ]
     },
     "metadata": {},
     "execution_count": 10
    }
   ],
   "metadata": {}
  },
  {
   "cell_type": "code",
   "execution_count": 11,
   "source": [
    "view(clus3d)"
   ],
   "outputs": [
    {
     "output_type": "execute_result",
     "data": {
      "text/plain": [
       "<Popen: returncode: None args: ['/usr/local/bin/python', '-m', 'ase', 'gui',...>"
      ]
     },
     "metadata": {},
     "execution_count": 11
    }
   ],
   "metadata": {}
  },
  {
   "cell_type": "markdown",
   "source": [
    "## Task 3: Pairwise distances\n",
    "\n",
    "What is the main disadvantage when directly using Cartesian coordinates?\n",
    "\n"
   ],
   "metadata": {}
  },
  {
   "cell_type": "code",
   "execution_count": 12,
   "source": [
    "# make a list of all distances\n",
    "dist3d = clus3d.get_all_distances()\n",
    "#print(dist3d)\n",
    "\n",
    "# sort list\n",
    "dist3d = np.sort(np.ravel(dist3d))\n",
    "#print(dist3d)\n",
    "\n",
    "# remove 0\n",
    "dist3d = np.trim_zeros(dist3d)\n",
    "#print(dist3d)\n",
    "\n",
    "# only every second entry (double counting of bonds)\n",
    "dist3d = dist3d[::2]\n",
    "print(dist3d)\n",
    "\n",
    "#length should be N*(N-1)/2 -> for N=7 there are 21; this will be the input vector to the NN!\n",
    "print(len(dist3d))\n",
    "print('\\n')\n",
    "\n",
    "#now the same for the 2D cluster\n",
    "dist2d = np.trim_zeros(np.sort(np.ravel(clus2d.get_all_distances())))\n",
    "dist2d = dist2d[::2]\n",
    "print(dist2d)\n",
    "print(len(dist2d))\n",
    "\n",
    "# save original configurations\n",
    "clus3d_orig_pos = clus3d.get_positions()\n",
    "clus2d_orig_pos = clus2d.get_positions()\n"
   ],
   "outputs": [
    {
     "output_type": "stream",
     "name": "stdout",
     "text": [
      "[1.08627728 1.08627728 1.08627728 1.08627728 1.08627728 1.08627728\n",
      " 1.53622807 1.53622807 1.53622807 1.53622807 1.53622807 1.53622807\n",
      " 1.53622807 1.53622807 1.53622807 1.53622807 1.53622807 1.53622807\n",
      " 2.17255457 2.17255457 2.17255457]\n",
      "21\n",
      "\n",
      "\n",
      "[1.11848102 1.11848102 1.11848102 1.11848102 1.11848102 1.11848102\n",
      " 1.11848102 1.11848102 1.11848102 1.11848102 1.11848102 1.11848102\n",
      " 1.93726595 1.93726595 1.93726595 1.93726595 1.93726595 1.93726595\n",
      " 2.23696204 2.23696204 2.23696204]\n",
      "21\n"
     ]
    },
    {
     "output_type": "stream",
     "name": "stderr",
     "text": [
      "usage: ase [-h] [--version] [-T]\n",
      "           {help,info,test,gui,db,run,band-structure,build,dimensionality,eos,ulm,find,nebplot,nomad-upload,nomad-get,convert,reciprocal,completion,diff,exec}\n",
      "           ...\n",
      "ase: error: TclError: no display name and no $DISPLAY environment variable\n",
      "To get a full traceback, use: ase -T gui ...\n",
      "usage: ase [-h] [--version] [-T]\n",
      "           {help,info,test,gui,db,run,band-structure,build,dimensionality,eos,ulm,find,nebplot,nomad-upload,nomad-get,convert,reciprocal,completion,diff,exec}\n",
      "           ...\n",
      "ase: error: TclError: no display name and no $DISPLAY environment variable\n",
      "To get a full traceback, use: ase -T gui ...\n"
     ]
    }
   ],
   "metadata": {}
  },
  {
   "cell_type": "markdown",
   "source": [
    "# Creating datasets using Monte Carlo sampling"
   ],
   "metadata": {}
  },
  {
   "cell_type": "markdown",
   "source": [
    "## Task 1: MC sampling function"
   ],
   "metadata": {}
  },
  {
   "cell_type": "code",
   "execution_count": 13,
   "source": [
    "import ase\n",
    "\n",
    "def mcstep(config: ase.Atoms, T: float, sigma: float, D: int, rng: np.random.Generator):\n",
    "    \"\"\"Metropolis-Hastings algorithm to sample atomic configurations at constant temperature using global random displacement moves from a Gaussian distribution.\n",
    "\n",
    "    Parameters\n",
    "    ----------\n",
    "    config:\n",
    "        an atomic configuration.\n",
    "    T:\n",
    "        temperature of the system\n",
    "    sigma:\n",
    "        magnitude of the random displacement\n",
    "    D:\n",
    "        dimensionality of the system (either 2 or 3)\n",
    "    rng:\n",
    "        a random generator from numpy.random\n",
    "    \n",
    "    Return\n",
    "    ------\n",
    "\n",
    "    config: ase.Atoms\n",
    "        the modified configuration\n",
    "    accetance: int\n",
    "        whether the move has been accepted\n",
    "    \"\"\"\n",
    "    \n",
    "    e_old = config.get_potential_energy()\n",
    "    pos_old = config.get_positions()\n",
    "    pos_new = config.get_positions()\n",
    "    # sample random displacements\n",
    "    displacements = rng.normal(loc=0.0, scale=sigma, size=pos_new.shape)\n",
    "    pos_new += displacements\n",
    "    if D == 2:\n",
    "        # set the z dimension back to 0\n",
    "        pos_new[:, 2] = 0\n",
    "\n",
    "    config.set_positions(pos_new)\n",
    "    e_new = config.get_potential_energy()\n",
    "    \n",
    "    # here's the MC acceptance\n",
    "    dE = e_new - e_old\n",
    "    if rng.uniform() < exp(-dE/(units.kB*T)):\n",
    "        config.set_positions(pos_new)\n",
    "        return config, 1\n",
    "    else:\n",
    "        config.set_positions(pos_old)\n",
    "        return config, 0\n",
    "    \n",
    "    "
   ],
   "outputs": [],
   "metadata": {}
  },
  {
   "cell_type": "markdown",
   "source": [
    "## Task 2: MC sampling and dataset for 3D LJ cluster"
   ],
   "metadata": {}
  },
  {
   "cell_type": "code",
   "execution_count": 14,
   "source": [
    "from numpy.random import default_rng\n",
    "rng = default_rng(92458)"
   ],
   "outputs": [],
   "metadata": {}
  },
  {
   "cell_type": "code",
   "execution_count": 20,
   "source": [
    "# start with original setup\n",
    "clus3d.set_positions(clus3d_orig_pos)\n",
    "\n",
    "# set dimensionality\n",
    "D = 3\n",
    "\n",
    "# displacement\n",
    "# set temperature (in K)\n",
    "# T = 10\n",
    "# sigma = 0.001\n",
    "sigma = 0.01\n",
    "T = 800\n",
    "\n",
    "# set number of MC steps\n",
    "mcsteps = 20001\n",
    "\n",
    "# how often to print energy\n",
    "nprint = 500\n",
    "\n",
    "# how often to collect data\n",
    "ncollect = 20\n",
    "\n",
    "# initialize acceptance counter\n",
    "nacc = 0\n",
    "X3d = []\n",
    "y3d = []\n",
    "\n",
    "# do a simple MC sampling to create a set of configurations\n",
    "for i in range(mcsteps):\n",
    "    \n",
    "    clus3d, acc = mcstep(clus3d, T, sigma, D, rng)\n",
    "    \n",
    "    if acc:\n",
    "        nacc += 1\n",
    "    if (i % nprint) == 0:\n",
    "        print(i,clus3d.get_potential_energy())\n",
    "        \n",
    "    if (i % ncollect) == 0:\n",
    "        dist = clus3d.get_all_distances()\n",
    "        dist = np.trim_zeros(np.sort(np.ravel(dist)))\n",
    "        X3d.append(dist[::2])\n",
    "        y3d.append(clus3d.get_potential_energy())\n",
    "        \n",
    "# print acceptances\n",
    "#print(nacc)\n",
    "print(f'\\nAcceptance ratio: {float(nacc)/float(mcsteps):5.3f}')\n",
    "\n",
    "X3d = np.array(X3d)\n",
    "y3d = np.array(y3d)\n",
    "\n",
    "print(len(X3d))\n",
    "print(len(y3d))\n",
    "\n",
    "# some setups:\n",
    "# T = 800 K, sigma = 0.01\n",
    "# T = 10 K, sigma = 0.001"
   ],
   "outputs": [
    {
     "output_type": "stream",
     "name": "stdout",
     "text": [
      "0 -9.088710494840697\n",
      "500 -12.106957932673904\n",
      "1000 -13.934596747713362\n",
      "1500 -14.149515329144899\n",
      "2000 -15.311131093518643\n",
      "2500 -16.00117289783819\n",
      "3000 -16.070463223984827\n",
      "3500 -15.942722884681928\n",
      "4000 -15.623993668685513\n",
      "4500 -15.614194270329062\n",
      "5000 -15.871589350745113\n",
      "5500 -16.09800856177129\n",
      "6000 -15.877865723367828\n",
      "6500 -15.871992693372267\n",
      "7000 -15.832837914499997\n",
      "7500 -16.006524907312617\n",
      "8000 -15.926263783294763\n",
      "8500 -15.633103061345409\n",
      "9000 -16.01879119312574\n",
      "9500 -15.791995473988383\n",
      "10000 -16.090673916786997\n",
      "10500 -15.417599210542525\n",
      "11000 -15.60416701483232\n",
      "11500 -15.969699655663828\n",
      "12000 -15.934787717965415\n",
      "12500 -15.960860157660456\n",
      "13000 -15.943797616562492\n",
      "13500 -15.352139108543883\n",
      "14000 -15.998610233511972\n",
      "14500 -15.992790701134599\n",
      "15000 -15.842014887462717\n",
      "15500 -15.80412976179443\n",
      "16000 -16.22746358146794\n",
      "16500 -15.66229185023426\n",
      "17000 -15.612980249254065\n",
      "17500 -15.853474703864277\n",
      "18000 -16.003346616121686\n",
      "18500 -15.899772330753928\n",
      "19000 -15.948629053312704\n",
      "19500 -15.396743360060263\n",
      "20000 -16.120108928834863\n",
      "\n",
      "Acceptance ratio: 0.444\n",
      "1001\n",
      "1001\n"
     ]
    }
   ],
   "metadata": {}
  },
  {
   "cell_type": "code",
   "execution_count": 21,
   "source": [
    "plt.plot(y3d)"
   ],
   "outputs": [
    {
     "output_type": "execute_result",
     "data": {
      "text/plain": [
       "[<matplotlib.lines.Line2D at 0xffff45dbfd30>]"
      ]
     },
     "metadata": {},
     "execution_count": 21
    },
    {
     "output_type": "display_data",
     "data": {
      "image/png": "[encoded data removed]",
      "text/plain": [
       "<Figure size 432x288 with 1 Axes>"
      ]
     },
     "metadata": {
      "needs_background": "light"
     }
    }
   ],
   "metadata": {}
  },
  {
   "cell_type": "code",
   "execution_count": 12,
   "source": [
    "X3d_800 = X3d\n",
    "y3d_800 = y3d"
   ],
   "outputs": [],
   "metadata": {}
  },
  {
   "cell_type": "code",
   "execution_count": 10,
   "source": [
    "X3d_10 = X3d\n",
    "y3d_10 = y3d"
   ],
   "outputs": [],
   "metadata": {}
  },
  {
   "cell_type": "markdown",
   "source": [
    "## Task 3: MC sampling and dataset for 2D LJ cluster"
   ],
   "metadata": {}
  },
  {
   "cell_type": "code",
   "execution_count": 13,
   "source": [
    "plt.plot(y3d_10,label='K=10')\n",
    "plt.plot(y3d_800,label='K=800')\n",
    "plt.ylabel('LJ energy')\n",
    "plt.xlabel('# configuration')\n",
    "plt.legend()"
   ],
   "outputs": [
    {
     "output_type": "execute_result",
     "data": {
      "text/plain": [
       "<matplotlib.legend.Legend at 0x7fde7cb14700>"
      ]
     },
     "metadata": {},
     "execution_count": 13
    },
    {
     "output_type": "display_data",
     "data": {
      "image/png": "[encoded data removed]",
      "text/plain": [
       "<Figure size 432x288 with 1 Axes>"
      ]
     },
     "metadata": {
      "needs_background": "light"
     }
    }
   ],
   "metadata": {}
  },
  {
   "cell_type": "code",
   "execution_count": 19,
   "source": [
    "print(y3d_800[1000],y3d_10[1000])"
   ],
   "outputs": [
    {
     "output_type": "stream",
     "name": "stdout",
     "text": [
      "-14.472449808962205 -15.410501394288527\n"
     ]
    }
   ],
   "metadata": {}
  },
  {
   "cell_type": "code",
   "execution_count": 17,
   "source": [
    "# start with original setup\n",
    "clus2d.set_positions(clus2d_orig_pos)\n",
    "\n",
    "# set dimensionality\n",
    "D = 2\n",
    "\n",
    "# set temperature (in K)\n",
    "#T = 200\n",
    "T = 2000\n",
    "\n",
    "# set number of MC steps\n",
    "mcsteps = 20001\n",
    "\n",
    "# displacement\n",
    "#sigma = 0.005\n",
    "sigma = 0.02\n",
    "\n",
    "# how often to print energy\n",
    "nprint = 500\n",
    "\n",
    "# how often to collect data\n",
    "ncollect = 20\n",
    "\n",
    "# initialize acceptance counter\n",
    "nacc = 0\n",
    "X2d = []\n",
    "y2d = []\n",
    "\n",
    "# do a simple MC sampling to create a set of configurations\n",
    "for i in range(mcsteps):\n",
    "    \n",
    "    clus2d, acc = mcstep(clus2d, T, sigma, D, rng)\n",
    "    \n",
    "    if acc:\n",
    "        nacc += 1\n",
    "    if (i % nprint) == 0:\n",
    "        print(i,clus2d.get_potential_energy())\n",
    "        \n",
    "    if (i % ncollect) == 0:\n",
    "        dist = clus2d.get_all_distances()\n",
    "        dist = np.trim_zeros(np.sort(np.ravel(dist)))\n",
    "        X2d.append(dist[::2])\n",
    "        y2d.append(clus2d.get_potential_energy())\n",
    "        \n",
    "# print acceptances\n",
    "#print(nacc)\n",
    "print(f'\\nAcceptance ratio: {float(nacc)/float(mcsteps):5.3f}')\n",
    "\n",
    "#X2d_200 = np.array(X2d)\n",
    "#y2d_200 = np.array(y2d)\n",
    "\n",
    "X2d_2000 = np.array(X2d)\n",
    "y2d_2000 = np.array(y2d)\n",
    "\n",
    "# print(len(X2d_200))\n",
    "# print(len(y2d_200))\n",
    "\n",
    "print(len(X2d_2000))\n",
    "print(len(y2d_2000))\n",
    "\n",
    "# T = 2000 K, sigma = 0.02\n",
    "# T = 200 K, sigma = 0.005"
   ],
   "outputs": [
    {
     "output_type": "stream",
     "name": "stdout",
     "text": [
      "0 -12.419758307142516\n",
      "500 -11.872068676276538\n",
      "1000 -11.278009272369129\n",
      "1500 -11.703155737176592\n",
      "2000 -11.291858553623667\n",
      "2500 -11.655977715602717\n",
      "3000 -11.823864027142449\n",
      "3500 -12.03814917892838\n",
      "4000 -12.11813010988641\n",
      "4500 -11.8359217225485\n",
      "5000 -11.191079939986937\n",
      "5500 -11.095182202553453\n",
      "6000 -11.437594871499893\n",
      "6500 -10.794982556384365\n",
      "7000 -11.714198214562872\n",
      "7500 -11.392305591956433\n",
      "8000 -10.626943168934897\n",
      "8500 -10.720381550879154\n",
      "9000 -10.77128696297459\n",
      "9500 -11.333119808197619\n",
      "10000 -11.304404748346194\n",
      "10500 -12.007769135441862\n",
      "11000 -10.989917307621456\n",
      "11500 -12.109678292219948\n",
      "12000 -11.745036312928383\n",
      "12500 -9.1112997411343\n",
      "13000 -10.713006394921127\n",
      "13500 -11.330477419626408\n",
      "14000 -10.68185753805334\n",
      "14500 -11.671388666061166\n",
      "15000 -11.467749792935983\n",
      "15500 -11.117852816017496\n",
      "16000 -10.934218841073147\n",
      "16500 -11.376329502748915\n",
      "17000 -11.45907239230054\n",
      "17500 -11.511498156514307\n",
      "18000 -12.013537317631396\n",
      "18500 -11.639232456962937\n",
      "19000 -10.786209437198202\n",
      "19500 -10.230152043409825\n",
      "20000 -10.72361696892822\n",
      "\n",
      "Acceptance ratio: 0.422\n",
      "1001\n",
      "1001\n"
     ]
    }
   ],
   "metadata": {}
  },
  {
   "cell_type": "code",
   "execution_count": null,
   "source": [],
   "outputs": [],
   "metadata": {}
  }
 ],
 "metadata": {
  "interpreter": {
   "hash": "4cd7ab41f5fca4b9b44701077e38c5ffd31fe66a6cab21e0214b68d958d0e462"
  },
  "kernelspec": {
   "name": "python3",
   "display_name": "Python 3.9.2 64-bit"
  },
  "language_info": {
   "codemirror_mode": {
    "name": "ipython",
    "version": 3
   },
   "file_extension": ".py",
   "mimetype": "text/x-python",
   "name": "python",
   "nbconvert_exporter": "python",
   "pygments_lexer": "ipython3",
   "version": "3.9.2"
  }
 },
 "nbformat": 4,
 "nbformat_minor": 5
}
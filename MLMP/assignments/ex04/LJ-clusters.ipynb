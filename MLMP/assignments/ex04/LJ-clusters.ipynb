{
 "cells": [
  {
   "cell_type": "code",
   "execution_count": null,
   "source": [
    "import numpy as np\n",
    "\n",
    "from ase import Atoms, units\n",
    "from ase.calculators.lj import LennardJones\n",
    "from ase.optimize import BFGS\n",
    "from ase.constraints import FixedPlane\n",
    "from ase.visualize import view\n",
    "\n",
    "from math import sqrt, exp\n",
    "\n",
    "import matplotlib.pyplot as plt"
   ],
   "outputs": [],
   "metadata": {}
  },
  {
   "cell_type": "markdown",
   "source": [
    "# Example for setting up ASE "
   ],
   "metadata": {}
  },
  {
   "cell_type": "markdown",
   "source": [
    "## Creating an 'Atoms' object and modifying positions"
   ],
   "metadata": {}
  },
  {
   "cell_type": "code",
   "execution_count": null,
   "source": [
    "# trimer along the x-axis\n",
    "d = 1.0\n",
    "trimer = Atoms('3Ar',[(0.0,0.0,0.0),(d,0.0,0.0),(-d,0.0,0.0)])\n",
    "\n",
    "# getting the positions\n",
    "pos = trimer.get_positions()\n",
    "\n",
    "# modifying positions\n",
    "pos += 0.1\n",
    "        \n",
    "# setting positions\n",
    "trimer.set_positions(pos)\n",
    "\n",
    "# getting all distances\n",
    "alldist = trimer.get_all_distances()\n",
    "\n",
    "# viewing the trimer\n",
    "view(trimer)"
   ],
   "outputs": [],
   "metadata": {}
  },
  {
   "cell_type": "markdown",
   "source": [
    "## Setting a calculator, computing the energy, and minimization"
   ],
   "metadata": {}
  },
  {
   "cell_type": "code",
   "execution_count": null,
   "source": [
    "# setting the calculator\n",
    "ljcalc = LennardJones()\n",
    "trimer.calc = ljcalc\n",
    "\n",
    "# computing the energy\n",
    "epot = trimer.get_potential_energy()\n",
    "\n",
    "# constrain to xy-plane each atom index in trimer\n",
    "trimer.set_constraint(FixedPlane(a=np.arange(len(trimer)), direction=[0,0,1]))\n",
    "\n",
    "# setting and running a minimizer\n",
    "trimer_mini = BFGS(trimer)\n",
    "trimer_mini.run(fmax=0.05)\n",
    "\n",
    "# Boltzman constant in units eV/K\n",
    "units.kB"
   ],
   "outputs": [],
   "metadata": {}
  },
  {
   "cell_type": "markdown",
   "source": [
    "# Random numbers"
   ],
   "metadata": {}
  },
  {
   "cell_type": "code",
   "execution_count": null,
   "source": [
    "from numpy.random import default_rng\n",
    "# a random number generator\n",
    "rng = default_rng(19884)\n",
    "\n",
    "# a sample from the gaussian distribution N(0, 1)\n",
    "x_g = rng.standard_normal()\n",
    "\n",
    "# a sample from the uniform distribution on [0,1]\n",
    "x_u = rng.uniform()"
   ],
   "outputs": [],
   "metadata": {}
  },
  {
   "cell_type": "code",
   "execution_count": null,
   "source": [],
   "outputs": [],
   "metadata": {}
  }
 ],
 "metadata": {
  "kernelspec": {
   "name": "python3",
   "display_name": "Python 3.9.2 64-bit"
  },
  "language_info": {
   "codemirror_mode": {
    "name": "ipython",
    "version": 3
   },
   "file_extension": ".py",
   "mimetype": "text/x-python",
   "name": "python",
   "nbconvert_exporter": "python",
   "pygments_lexer": "ipython3",
   "version": "3.9.2"
  },
  "interpreter": {
   "hash": "4cd7ab41f5fca4b9b44701077e38c5ffd31fe66a6cab21e0214b68d958d0e462"
  }
 },
 "nbformat": 4,
 "nbformat_minor": 5
}
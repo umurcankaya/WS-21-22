{
 "cells": [
  {
   "cell_type": "markdown",
   "id": "ec724f3f",
   "metadata": {},
   "source": [
    "# Python introduction\n",
    "## Table of contents\n",
    "\n",
    "1. [Arithmetic Expressions](#ArithmeticExpressions)\n",
    "2. [Variables](#Variables)\n",
    "3. [Lists](#Lists)\n",
    "4. [Numpy](#Numpy)\n",
    "5. [Functions](#Functions)\n",
    "6. [Flow Control](#FlowControl)\n",
    "7. [Matplotlib](#Matplotlib)"
   ]
  },
  {
   "cell_type": "markdown",
   "id": "43bf3f4d",
   "metadata": {},
   "source": [
    "## Jupyter notebooks...\n",
    "\n",
    "... are a single environment in which you can run code interactively, visualize results, and even add formatted documentation. This text, for example, lies in a Markdown-type cell.\n",
    "\n",
    "Feel encouraged to play with the code: Change numbers, names, code...\n",
    "\n",
    "\n",
    "**Remember**:\n",
    "- to run the currently highlighted cell, hold <kbd>&#x21E7; Shift</kbd> and press <kbd>&#x23ce; Enter</kbd>\n",
    "- to get help for a specific function, place the cursor within the function's brackets, hold <kbd>&#x21E7; Shift</kbd>, and press <kbd>&#x21E5; Tab</kbd>"
   ]
  },
  {
   "cell_type": "markdown",
   "id": "4ceb6c3a",
   "metadata": {},
   "source": [
    "## Arithmetic Expressions \n",
    "<a id='ArithmeticExpressions'></a>"
   ]
  },
  {
   "cell_type": "markdown",
   "id": "21301849",
   "metadata": {},
   "source": [
    "Addition"
   ]
  },
  {
   "cell_type": "code",
   "execution_count": 1,
   "id": "de24849f",
   "metadata": {},
   "outputs": [
    {
     "data": {
      "text/plain": [
       "4.7"
      ]
     },
     "execution_count": 1,
     "metadata": {},
     "output_type": "execute_result"
    }
   ],
   "source": [
    "1.2 + 3.5"
   ]
  },
  {
   "cell_type": "markdown",
   "id": "65a90489",
   "metadata": {},
   "source": [
    "Subtraction\n",
    "\n"
   ]
  },
  {
   "cell_type": "code",
   "execution_count": 2,
   "id": "e643fcd4",
   "metadata": {},
   "outputs": [
    {
     "data": {
      "text/plain": [
       "-2.3"
      ]
     },
     "execution_count": 2,
     "metadata": {},
     "output_type": "execute_result"
    }
   ],
   "source": [
    "1.2 - 3.5"
   ]
  },
  {
   "cell_type": "markdown",
   "id": "b7d472f9",
   "metadata": {},
   "source": [
    "Multiplication"
   ]
  },
  {
   "cell_type": "code",
   "execution_count": 3,
   "id": "8b0031c4",
   "metadata": {},
   "outputs": [
    {
     "data": {
      "text/plain": [
       "4.2"
      ]
     },
     "execution_count": 3,
     "metadata": {},
     "output_type": "execute_result"
    }
   ],
   "source": [
    "1.2 * 3.5"
   ]
  },
  {
   "cell_type": "markdown",
   "id": "7cf31060",
   "metadata": {},
   "source": [
    "Division"
   ]
  },
  {
   "cell_type": "code",
   "execution_count": 4,
   "id": "f7c3bbe4",
   "metadata": {},
   "outputs": [
    {
     "data": {
      "text/plain": [
       "0.34285714285714286"
      ]
     },
     "execution_count": 4,
     "metadata": {},
     "output_type": "execute_result"
    }
   ],
   "source": [
    "1.2 / 3.5"
   ]
  },
  {
   "cell_type": "markdown",
   "id": "fc72d9b3",
   "metadata": {},
   "source": [
    "Exponents"
   ]
  },
  {
   "cell_type": "code",
   "execution_count": 5,
   "id": "83533010",
   "metadata": {},
   "outputs": [
    {
     "data": {
      "text/plain": [
       "1.7279999999999998"
      ]
     },
     "execution_count": 5,
     "metadata": {},
     "output_type": "execute_result"
    }
   ],
   "source": [
    "1.2 ** 3"
   ]
  },
  {
   "cell_type": "markdown",
   "id": "0ab114d6",
   "metadata": {},
   "source": [
    "## Variables\n",
    "<a id='Variables'></a>\n",
    "Until now, just an elaborate calculator. Programming is about assigning values to variables and manipulate them."
   ]
  },
  {
   "cell_type": "code",
   "execution_count": 6,
   "id": "93e5a3db",
   "metadata": {},
   "outputs": [],
   "source": [
    "a = 1.2\n",
    "b = 3.5"
   ]
  },
  {
   "cell_type": "code",
   "execution_count": 7,
   "id": "1c41f659",
   "metadata": {},
   "outputs": [
    {
     "name": "stdout",
     "output_type": "stream",
     "text": [
      "1.2\n",
      "3.5\n",
      "a is 1.2\n",
      "b is 3.5\n",
      "a is 1.2, b is 3.5\n",
      "a is 1.200, b is 3.500e+00\n",
      "a is 1.200, b is 3.500e+00\n"
     ]
    }
   ],
   "source": [
    "print(a)   # introducing print function\n",
    "print(b)\n",
    "print('a is',a)\n",
    "print('b is',b)\n",
    "print(f'a is {a}, b is {b}')\n",
    "print(f'a is {a:5.3f}, b is {b:5.3e}')  # formatted printing I\n",
    "print('a is %5.3f, b is %5.3e' % (a,b)) # formatted printing II"
   ]
  },
  {
   "cell_type": "markdown",
   "id": "df8215de",
   "metadata": {},
   "source": [
    "Of course, we can also use mathematical expressions on variables. You can use autocompletion for variable names by tab!"
   ]
  },
  {
   "cell_type": "code",
   "execution_count": 8,
   "id": "158ce07e",
   "metadata": {},
   "outputs": [
    {
     "name": "stdout",
     "output_type": "stream",
     "text": [
      "4.7 -2.3 4.2 0.34285714285714286 1.8929291587378538\n"
     ]
    }
   ],
   "source": [
    "add = a + b\n",
    "sub = a - b\n",
    "mul = a * b\n",
    "div = a / b\n",
    "exp = a ** b\n",
    "print(add, sub, mul, div, exp)"
   ]
  },
  {
   "cell_type": "markdown",
   "id": "61bea63c",
   "metadata": {},
   "source": [
    "You can also write text into a variable (called string)"
   ]
  },
  {
   "cell_type": "code",
   "execution_count": 9,
   "id": "9f56d14c",
   "metadata": {},
   "outputs": [
    {
     "name": "stdout",
     "output_type": "stream",
     "text": [
      "This is a\n",
      "This is b\n"
     ]
    }
   ],
   "source": [
    "a = 'This is a'\n",
    "b = '\\nThis is b'       # \\n will initiate a new line\n",
    "c = a + b\n",
    "print(c)"
   ]
  },
  {
   "cell_type": "markdown",
   "id": "87e5347e",
   "metadata": {},
   "source": [
    "You cannot add different types, if you want to do that you have to convert those"
   ]
  },
  {
   "cell_type": "code",
   "execution_count": 10,
   "id": "7170228d",
   "metadata": {},
   "outputs": [
    {
     "name": "stdout",
     "output_type": "stream",
     "text": [
      "a is = 1.2\n",
      "4.6\n"
     ]
    }
   ],
   "source": [
    "a = 1.2                 # this is a float\n",
    "aname = 'a is = '       # this is a string\n",
    "b = '3.4'               # this is a string\n",
    "\n",
    "c = aname + str(a)      # this is a string\n",
    "d = a + float(b)        # this is a float\n",
    "\n",
    "print(c)\n",
    "print(d)"
   ]
  },
  {
   "cell_type": "markdown",
   "id": "67f4ebef",
   "metadata": {},
   "source": [
    "## Lists\n",
    "<a id='List'></a>\n",
    "Python provides more complex data types to store more than one value. "
   ]
  },
  {
   "cell_type": "code",
   "execution_count": 11,
   "id": "e0facc2d",
   "metadata": {},
   "outputs": [
    {
     "name": "stdout",
     "output_type": "stream",
     "text": [
      "['one', 'two', 'three', 'four']\n",
      "[1.0, 2.0, 3.0, 4.0]\n",
      "[1.0, 2.0, 'three', 4]\n"
     ]
    }
   ],
   "source": [
    "first_list = ['one', 'two', 'three', 'four']\n",
    "second_list = [1., 2., 3., 4.]\n",
    "third_list = [1., 2., 'three', 4]\n",
    "print(first_list)\n",
    "print(second_list)\n",
    "print(third_list)"
   ]
  },
  {
   "cell_type": "markdown",
   "id": "713aa023",
   "metadata": {},
   "source": [
    "There some nice basic functions provided to act on lists"
   ]
  },
  {
   "cell_type": "code",
   "execution_count": 12,
   "id": "dc55113d",
   "metadata": {},
   "outputs": [
    {
     "name": "stdout",
     "output_type": "stream",
     "text": [
      "4\n",
      "4.0\n",
      "[1.0, 2.0, 'three', 4, 5]\n"
     ]
    }
   ],
   "source": [
    "print(len(first_list))\n",
    "print(max(second_list))\n",
    "\n",
    "third_list.append(5)\n",
    "print(third_list)"
   ]
  },
  {
   "cell_type": "markdown",
   "id": "797a3c11",
   "metadata": {},
   "source": [
    "### Slicing lists\n",
    "\n",
    "We can access individual elements of the list with the `[]`. Attention, the counting starts with 0."
   ]
  },
  {
   "cell_type": "code",
   "execution_count": 13,
   "id": "c25dbe75",
   "metadata": {},
   "outputs": [
    {
     "name": "stdout",
     "output_type": "stream",
     "text": [
      "one\n"
     ]
    }
   ],
   "source": [
    "print(first_list[0])"
   ]
  },
  {
   "cell_type": "markdown",
   "id": "ff2d3263",
   "metadata": {},
   "source": [
    "You can also use to specify from where to where with what stepsize you want to go through the list."
   ]
  },
  {
   "cell_type": "code",
   "execution_count": 14,
   "id": "bb752e34",
   "metadata": {},
   "outputs": [
    {
     "name": "stdout",
     "output_type": "stream",
     "text": [
      "[2.0, 3.0, 4.0]\n",
      "[1.0, 2.0, 3.0]\n",
      "[1.0, 3.0]\n",
      "[1.0, 2.0, 3.0]\n",
      "[4.0, 3.0, 2.0, 1.0]\n"
     ]
    }
   ],
   "source": [
    "print(second_list[1:])\n",
    "print(second_list[0:3])\n",
    "print(second_list[0:4:2])\n",
    "print(second_list[:-1])\n",
    "print(second_list[::-1])"
   ]
  },
  {
   "cell_type": "markdown",
   "id": "f9ab9380",
   "metadata": {},
   "source": [
    "## Numpy\n",
    "<a id='Numpy'></a>\n",
    "Numpy a very powerful package which provides a number of mathematical tools, including random number generators, linear algebra routines, Fourier transforms, etc.  It also provides quite powerful N-dimensional arrays.\n",
    "\n",
    "To be able to use the package, we have to import it.\n",
    "\n",
    "Note that by added `as np`, we choose to import the package under a shorter name."
   ]
  },
  {
   "cell_type": "code",
   "execution_count": 15,
   "id": "4bfabd13",
   "metadata": {},
   "outputs": [],
   "source": [
    "import numpy as np"
   ]
  },
  {
   "cell_type": "markdown",
   "id": "9b7ae99a",
   "metadata": {},
   "source": [
    "We can now create an array by converting a list, which has the same slicing properties as lists"
   ]
  },
  {
   "cell_type": "code",
   "execution_count": 16,
   "id": "ed91d746",
   "metadata": {},
   "outputs": [
    {
     "name": "stdout",
     "output_type": "stream",
     "text": [
      "[1. 2. 3. 4.]\n",
      "[2. 3. 4.]\n",
      "[1. 2. 3.]\n",
      "[1. 3.]\n",
      "[1. 2. 3.]\n",
      "[4. 3. 2. 1.]\n"
     ]
    }
   ],
   "source": [
    "a_list = [1.,2.,3.,4.]\n",
    "a_array = np.array(a_list)\n",
    "print(a_array)\n",
    "print(a_array[1:])\n",
    "print(a_array[0:3])\n",
    "print(a_array[0:4:2])\n",
    "print(a_array[:-1])\n",
    "print(a_array[::-1])"
   ]
  },
  {
   "cell_type": "markdown",
   "id": "48370e80",
   "metadata": {},
   "source": [
    "But with numpy you can do a lot more things"
   ]
  },
  {
   "cell_type": "code",
   "execution_count": 17,
   "id": "178121fb",
   "metadata": {},
   "outputs": [
    {
     "name": "stdout",
     "output_type": "stream",
     "text": [
      "[1. 1. 1.]\n",
      "[0. 0. 0.]\n",
      "[[1. 0. 0.]\n",
      " [0. 1. 0.]\n",
      " [0. 0. 1.]]\n"
     ]
    }
   ],
   "source": [
    "# you can get help by pressing tab when cursor inside function brackets!\n",
    "vector_ones = np.ones(3) \n",
    "print(vector_ones)\n",
    "vector_zeros = np.zeros(3)\n",
    "print(vector_zeros)\n",
    "idendity_matrix = np.eye(3)\n",
    "print(idendity_matrix)"
   ]
  },
  {
   "cell_type": "markdown",
   "id": "d9b7dde2",
   "metadata": {},
   "source": [
    "You can find out more by pressing tab for autocompletion"
   ]
  },
  {
   "cell_type": "markdown",
   "id": "125a1d42",
   "metadata": {},
   "source": [
    "Now let us use some of these functions:"
   ]
  },
  {
   "cell_type": "code",
   "execution_count": 19,
   "id": "265d361f",
   "metadata": {},
   "outputs": [
    {
     "name": "stdout",
     "output_type": "stream",
     "text": [
      "2.5\n",
      "1.118033988749895\n",
      "(4,)\n"
     ]
    }
   ],
   "source": [
    "print(np.mean(a_array))\n",
    "print(np.std(a_array))\n",
    "print(np.shape(a_array))"
   ]
  },
  {
   "cell_type": "markdown",
   "id": "7b64e446",
   "metadata": {},
   "source": [
    "You can use arrays like vectors. You can get the help for a function if the courser in inside the function brackets and you hold ⇧ Shift and press Tab.\n",
    "\n",
    "Note that we can do elementwise or linear algebra operations on numpy arrays just as simple as below:"
   ]
  },
  {
   "cell_type": "code",
   "execution_count": 20,
   "id": "494d030e",
   "metadata": {},
   "outputs": [
    {
     "name": "stdout",
     "output_type": "stream",
     "text": [
      "[1. 1. 0.]\n",
      "[ 0.  1. -1.]\n",
      "[3. 0. 0.]\n",
      "[0. 0. 0.]\n",
      "0.0\n",
      "1.0\n",
      "1.7320508075688772 1.7320508075688772\n"
     ]
    }
   ],
   "source": [
    "vector_a = np.array([1.,0.,0.])\n",
    "vector_b = np.array([0.,1.,0.])\n",
    "vector_c = np.array([0.,0.,1.])\n",
    "print(vector_a + vector_b)\n",
    "print(vector_b - vector_c)\n",
    "print(3 * vector_a)\n",
    "print(vector_a * vector_b) # element-wise!\n",
    "print(np.dot(vector_a, vector_b))\n",
    "print(np.dot(vector_a, vector_a+vector_b))\n",
    "print(np.linalg.norm(vector_a + vector_b + vector_c), np.sqrt(3))"
   ]
  },
  {
   "cell_type": "markdown",
   "id": "ab799fd2",
   "metadata": {},
   "source": [
    "## Functions\n",
    "<a id='Functions'></a>\n",
    "We can also implement functions, which is useful if certain quantities need to be evaluated multiple times.  For instance, we can write our own function to compute the norm:"
   ]
  },
  {
   "cell_type": "code",
   "execution_count": 21,
   "id": "d0eeae56",
   "metadata": {},
   "outputs": [],
   "source": [
    "def our_norm(a):\n",
    "    ''' \n",
    "    This is our own implementation of the norm function\n",
    "    :param a: numpy.ndarray \n",
    "    '''\n",
    "    square = a * a # Remember the multiplication is elementwise\n",
    "    sum_square = np.sum(a)\n",
    "    norm = np.sqrt(sum_square) \n",
    "    \n",
    "    return norm"
   ]
  },
  {
   "cell_type": "code",
   "execution_count": 22,
   "id": "d5a34a72",
   "metadata": {},
   "outputs": [
    {
     "name": "stdout",
     "output_type": "stream",
     "text": [
      "1.7320508075688772\n"
     ]
    }
   ],
   "source": [
    "print(our_norm(vector_a + vector_b + vector_c))"
   ]
  },
  {
   "cell_type": "markdown",
   "id": "1381b1fd",
   "metadata": {},
   "source": [
    "# Flow Control\n",
    "<a id='Flow Control'></a>\n",
    "\n",
    "1. for loop\n",
    "2. enumerate\n",
    "3. logical operators\n",
    "4. if/else"
   ]
  },
  {
   "cell_type": "markdown",
   "id": "30c2761a",
   "metadata": {},
   "source": [
    "### A 'for loop' is used to run over a certain block of code for a fixed number of times and to iterate through over a sequence"
   ]
  },
  {
   "cell_type": "code",
   "execution_count": 23,
   "id": "6d06fedc",
   "metadata": {},
   "outputs": [
    {
     "name": "stdout",
     "output_type": "stream",
     "text": [
      "0 0\n",
      "1 2\n",
      "2 4\n",
      "The loop has finished\n"
     ]
    }
   ],
   "source": [
    "for i in range(3):   \n",
    "    k = 2*i            # block needs to be in indented\n",
    "    print(i,k)\n",
    "print('The loop has finished')"
   ]
  },
  {
   "cell_type": "code",
   "execution_count": 24,
   "id": "eea3dac1",
   "metadata": {},
   "outputs": [
    {
     "name": "stdout",
     "output_type": "stream",
     "text": [
      "1\n",
      "1 0 1\n",
      "1 1 2\n",
      "1 2 3\n",
      "1 3 4\n",
      "2\n",
      "2 0 2\n",
      "2 1 3\n",
      "2 2 4\n",
      "2 3 5\n"
     ]
    }
   ],
   "source": [
    "for i in range(1, 3):\n",
    "    print(i)\n",
    "    for j in range(4):\n",
    "        k = i+j\n",
    "        print(i,j,k)"
   ]
  },
  {
   "cell_type": "code",
   "execution_count": 25,
   "id": "47a4f436",
   "metadata": {},
   "outputs": [
    {
     "name": "stdout",
     "output_type": "stream",
     "text": [
      "one\n",
      "two\n",
      "three\n"
     ]
    }
   ],
   "source": [
    "list_a = ['one', 'two', 'three']\n",
    "for i in range(len(list_a)):\n",
    "    print(list_a[i])"
   ]
  },
  {
   "cell_type": "code",
   "execution_count": 26,
   "id": "652c7463",
   "metadata": {},
   "outputs": [
    {
     "name": "stdout",
     "output_type": "stream",
     "text": [
      "one\n",
      "two\n",
      "three\n"
     ]
    }
   ],
   "source": [
    "for i in list_a:    # iterate through elements of the list\n",
    "    print(i)"
   ]
  },
  {
   "cell_type": "code",
   "execution_count": 27,
   "id": "5ba954c9",
   "metadata": {},
   "outputs": [
    {
     "name": "stdout",
     "output_type": "stream",
     "text": [
      "0 1\n",
      "1 3\n",
      "2 5\n"
     ]
    }
   ],
   "source": [
    "for index, value in enumerate([1,3,5]):\n",
    "    print(index, value)"
   ]
  },
  {
   "cell_type": "markdown",
   "id": "f978c35f",
   "metadata": {},
   "source": [
    "Use logical operators to test if expressions are true or false"
   ]
  },
  {
   "cell_type": "code",
   "execution_count": 28,
   "id": "aa712cf3",
   "metadata": {},
   "outputs": [
    {
     "name": "stdout",
     "output_type": "stream",
     "text": [
      "True\n",
      "False\n"
     ]
    }
   ],
   "source": [
    "# equal\n",
    "print(2==2)\n",
    "print(2==3)"
   ]
  },
  {
   "cell_type": "code",
   "execution_count": 29,
   "id": "94893afa",
   "metadata": {},
   "outputs": [
    {
     "name": "stdout",
     "output_type": "stream",
     "text": [
      "False\n",
      "True\n"
     ]
    }
   ],
   "source": [
    "# not equal\n",
    "print(2!=2)\n",
    "print(2!=3)"
   ]
  },
  {
   "cell_type": "code",
   "execution_count": 30,
   "id": "71c0993a",
   "metadata": {},
   "outputs": [
    {
     "name": "stdout",
     "output_type": "stream",
     "text": [
      "False\n",
      "True\n"
     ]
    }
   ],
   "source": [
    "# smaller than\n",
    "print(2<2)\n",
    "print(2<3)"
   ]
  },
  {
   "cell_type": "code",
   "execution_count": 31,
   "id": "01e5170f",
   "metadata": {},
   "outputs": [
    {
     "name": "stdout",
     "output_type": "stream",
     "text": [
      "True\n"
     ]
    }
   ],
   "source": [
    "# larger equal\n",
    "print(2>=2)"
   ]
  },
  {
   "cell_type": "code",
   "execution_count": 32,
   "id": "82698b8b",
   "metadata": {},
   "outputs": [
    {
     "name": "stdout",
     "output_type": "stream",
     "text": [
      "True\n",
      "False\n",
      "False\n"
     ]
    }
   ],
   "source": [
    "# can also be combined\n",
    "\n",
    "a = 3\n",
    "\n",
    "print(a>2 or a<2)\n",
    "print(a>2 and a<2)\n",
    "\n",
    "# and negation by using 'not'\n",
    "print(not 2<a)"
   ]
  },
  {
   "cell_type": "markdown",
   "id": "3287b0a0",
   "metadata": {},
   "source": [
    "Now we can use this as a flow control:"
   ]
  },
  {
   "cell_type": "code",
   "execution_count": 33,
   "id": "692a6435",
   "metadata": {},
   "outputs": [
    {
     "name": "stdout",
     "output_type": "stream",
     "text": [
      "a is larger 5\n"
     ]
    }
   ],
   "source": [
    "a = 10\n",
    "if a < 5:\n",
    "    print('a is smaller 5')\n",
    "elif a > 5:\n",
    "    print('a is larger 5')\n",
    "else:\n",
    "    print('a is 5')"
   ]
  },
  {
   "cell_type": "code",
   "execution_count": 34,
   "id": "fb1cdfbf",
   "metadata": {},
   "outputs": [
    {
     "name": "stdout",
     "output_type": "stream",
     "text": [
      "5\n",
      "6\n",
      "7\n"
     ]
    }
   ],
   "source": [
    "for i in range(10):\n",
    "    if i > 4 and i < 8:\n",
    "        print(i)"
   ]
  },
  {
   "cell_type": "markdown",
   "id": "81112c38",
   "metadata": {},
   "source": [
    "## Matplotlib\n",
    "<a id='Matplotlib'></a>\n",
    "Next we want to learn how to make beautiful plots with Matplotlib"
   ]
  },
  {
   "cell_type": "code",
   "execution_count": 35,
   "id": "53c4abbe",
   "metadata": {},
   "outputs": [],
   "source": [
    "import matplotlib.pyplot as plt"
   ]
  },
  {
   "cell_type": "code",
   "execution_count": 36,
   "id": "6e66c901",
   "metadata": {},
   "outputs": [
    {
     "data": {
      "image/png": "[encoded data removed]",
      "text/plain": [
       "<Figure size 432x288 with 1 Axes>"
      ]
     },
     "metadata": {
      "needs_background": "light"
     },
     "output_type": "display_data"
    }
   ],
   "source": [
    "x = np.linspace(-np.pi, np.pi, 100)\n",
    "s = np.sin(x)\n",
    "\n",
    "plt.plot(x, s)\n",
    "plt.xlabel('x / rad', fontsize=15)\n",
    "plt.ylabel('sin(x)', fontsize=15)\n",
    "plt.show()"
   ]
  },
  {
   "cell_type": "code",
   "execution_count": 37,
   "id": "b12272a7",
   "metadata": {},
   "outputs": [
    {
     "data": {
      "image/png": "[encoded data removed]",
      "text/plain": [
       "<Figure size 432x288 with 1 Axes>"
      ]
     },
     "metadata": {
      "needs_background": "light"
     },
     "output_type": "display_data"
    }
   ],
   "source": [
    "c = np.cos(x)\n",
    "\n",
    "plt.plot(x, s, '.', c ='blue', label='sin', ms = 8)\n",
    "plt.plot(x, c, '-', c ='orange', label='cos', lw = 4)\n",
    "plt.xlabel('$x$ / rad', fontsize=15)\n",
    "plt.xticks([-np.pi, -np.pi/2, 0, np.pi/2, np.pi], \n",
    "           ['$-\\pi$','$-\\pi/2$','0','$\\pi/2$','$\\pi$'], fontsize = 12)\n",
    "plt.yticks(fontsize = 12)\n",
    "plt.legend(fontsize=15)\n",
    "# save figure to file\n",
    "plt.savefig('trigo.pdf', bbox_inches='tight')\n",
    "plt.show()"
   ]
  },
  {
   "cell_type": "code",
   "execution_count": null,
   "id": "5695c86c-a413-4c28-aa45-dc123e12e380",
   "metadata": {},
   "outputs": [],
   "source": []
  }
 ],
 "metadata": {
  "kernelspec": {
   "display_name": "mltutorial",
   "language": "python",
   "name": "mltutorial"
  },
  "language_info": {
   "codemirror_mode": {
    "name": "ipython",
    "version": 3
   },
   "file_extension": ".py",
   "mimetype": "text/x-python",
   "name": "python",
   "nbconvert_exporter": "python",
   "pygments_lexer": "ipython3",
   "version": "3.8.12"
  }
 },
 "nbformat": 4,
 "nbformat_minor": 5
}
